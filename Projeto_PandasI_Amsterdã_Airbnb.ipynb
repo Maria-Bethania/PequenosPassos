{
  "nbformat": 4,
  "nbformat_minor": 0,
  "metadata": {
    "colab": {
      "provenance": [],
      "authorship_tag": "ABX9TyMP+3Nx+qNFPI5gPiXojRPw",
      "include_colab_link": true
    },
    "kernelspec": {
      "name": "python3",
      "display_name": "Python 3"
    },
    "language_info": {
      "name": "python"
    }
  },
  "cells": [
    {
      "cell_type": "markdown",
      "metadata": {
        "id": "view-in-github",
        "colab_type": "text"
      },
      "source": [
        "<a href=\"https://colab.research.google.com/github/Maria-Bethania/PequenosPassos/blob/main/Projeto_PandasI_Amsterd%C3%A3_Airbnb.ipynb\" target=\"_parent\"><img src=\"https://colab.research.google.com/assets/colab-badge.svg\" alt=\"Open In Colab\"/></a>"
      ]
    },
    {
      "cell_type": "markdown",
      "source": [
        "# Análise de Dados - Airbnb\n"
      ],
      "metadata": {
        "id": "ZI6pEXeXKhxl"
      }
    },
    {
      "cell_type": "markdown",
      "source": [
        "## Introdução\n",
        "\n",
        "      * Será realizada uma análise exploratória de dados utilizando informações obtidas do site da Airbnb.\n",
        "      * Objetivo: Extrair insights e ter um melhor entendimento do mercado de aluguéis.\n",
        "      * Coleta de dados: Coleta indireta de dados, obtidos do site da Airbnb, com informações sobre imóveis já alugados na plataforma.\n",
        "      * Os atributos serão identificados no tópico \"Legendas\"."
      ],
      "metadata": {
        "id": "DQou7pdPLsAe"
      }
    },
    {
      "cell_type": "markdown",
      "source": [
        "### Etapas da Análise\n",
        "\n",
        "    * Carregamento e exploração inicial dos dados;\n",
        "    * Limpeza e pré-processamento dos dados;\n",
        "    * Análise Exploratória dos dados;\n",
        "    * Insights e conclusões."
      ],
      "metadata": {
        "id": "WZI70rDqM5ZD"
      }
    },
    {
      "cell_type": "markdown",
      "source": [
        "### Ferramentas utilizadas\n",
        "\n",
        "    * Google Colaboratory: Plataforma para escrita, execução e compartilhamento de código;\n",
        "    * Pandas: Manipulação e análise dos dados;\n",
        "    * Matplotlib: Visualizações gráficas;\n",
        "    * NumPy: Computação numérica em Python, com suporte para funções matemáticas avançadas e manipulação de dados numéricos;\n",
        "    * Pandera: Validação dos dados."
      ],
      "metadata": {
        "id": "5FTrODahNWk2"
      }
    },
    {
      "cell_type": "markdown",
      "source": [
        "### Pré-requisitos\n",
        "\n",
        "    * Nível - Tratamento e Análise\n",
        "        - Executar todos os passos da estratégia de análise geral de dados;\n",
        "        - Comentários em todos os passos;\n",
        "        - Mínimo três (03) análises apenas numéricas;\n",
        "        - Plotagens para no mínimo três (03) análises;\n",
        "        - Apresentar conclusão da análise;\n",
        "\n",
        "    * Nivel Infra\n",
        "        - Dataset salvo em ambiente local  (Google Drive) - (bruto e tratado)\n",
        "        - Dataset salvo em ambiente cloud (Cloud Storage) - (bruto e tratado)\n",
        "        - Arquivo original e tratado salvos em MongoDB Atlas em coleções diferentes"
      ],
      "metadata": {
        "id": "RsIztzjnXR7-"
      }
    },
    {
      "cell_type": "markdown",
      "source": [
        "### Legenda dos dados\n",
        "\n",
        "    * realsum: Valor total em euros por duas noites;\n",
        "    * room_type: Tipo de acomodação ofertada;\n",
        "    * room_shared: Verifica se o espaço (ambiente) é compartilhado ou não;\n",
        "    * room_private: Verifica se o espaço (ambiente) é privado ou não;\n",
        "    * person_capacity: Quantidade (máximo) de pessoas permitidas no ambiente;\n",
        "    * host_is_superhost: Verifica se o anfitrião é classificado como superhost;\n",
        "    * multi: Verifica se o host tem de 2 - 4 unidades para aluguel.\n",
        "    * biz: Verifica se o host tem mais de 4 unidades para aluguel.\n",
        "    * cleanliness_rating: Classificação da limpeza realizada no ambiente;\n",
        "    * guest_satisfaction: Nível de satisfação do hóspede;\n",
        "    * bedrooms: Quantidade de quartos;\n",
        "    * dist: Distância entre o móvel e o centro da cidade.\n",
        "    * metro_dist: Distância entre o móvel e a estação de metrô mais próxima.\n",
        "    * attr_index: índice de atração do local do anúncio\n",
        "    * attr_index_norm: índice de atração normalizado (0-100) - (proximidade ou avaliação de satisfação com a atração turística?)\n",
        "    * rest_index: índice do restaurante do local da listagem\n",
        "    * attr_index_norm: índice de restaurante normalizado (0-100) - (proximidade ou avaliação de satisfação com restaurante?)\n",
        "    * lng: Longitude - Coordenada geográfica de localização;\n",
        "    * lat: Latitude - Coordenada geográfica de localização;\n",
        "\n",
        "\n",
        "**Fonte**: GYÓDI, K.; NAWARO,T. Determinants of Airbnb prices in European cities: A spatial econometrics approach, **Tourism Management**, Volume 86, 2021. Disponível em: https://www.sciencedirect.com/science/article/pii/S0261517721000388?via%3Dihub#bib1 Acesso em: 06/07/2023\n",
        "\n"
      ],
      "metadata": {
        "id": "5lAreKtTSlgZ"
      }
    },
    {
      "cell_type": "markdown",
      "source": [
        "### Método 5 w's\n",
        "\n",
        "    Usando a técnica dos 5 W's para identificar o problema de negócios.\n",
        "      WHO: Próprietários com imóveis alugados através da Airbnb ou possíveis hóspedes.\n",
        "      WHAT: O que influencia a demanda e satisfação dos hóspedes;\n",
        "      WHERE: Imóveis alugados na plataforma da Airbnb na cidade de Amsterdã (HOLANDA);\n",
        "      WHEN: O período não foi especificado.\n",
        "      WHY: Melhorar a experiência do hóspede, identificar maior demanda e entender os fatores de satisfação."
      ],
      "metadata": {
        "id": "869LDT6DT89e"
      }
    },
    {
      "cell_type": "markdown",
      "source": [
        "## Instalação de pacotes e importação de bibliotecas"
      ],
      "metadata": {
        "id": "N2dquKp0cQ1f"
      }
    },
    {
      "cell_type": "code",
      "execution_count": null,
      "metadata": {
        "id": "VoKllgAeJvvk"
      },
      "outputs": [],
      "source": [
        "!pip install gcsfs # Instalação do GCP;\n",
        "!pip install pandera # Instalação do pandera, biblioteca de validação de dados."
      ]
    },
    {
      "cell_type": "code",
      "source": [
        "import os # A biblioteca 'os' interage com o sistema operacional\n",
        "import pandas as pd              # Atribuindo à biblioteca pandas o apelido 'pd'.\n",
        "import numpy as np               # Atribuindo à biblioteca numpy o apelido 'np'.\n",
        "import matplotlib.pyplot as plt  # Atribuindo à biblioteca matplotlib o apelido 'plt'.\n",
        "import pandera as pa             # Atribuindo à biblioteca pandera o apelido 'pa'.\n",
        "from google.cloud import storage # Interação com o Google Cloud Platform (GCP).\n"
      ],
      "metadata": {
        "id": "W4_Opl3bdmXb"
      },
      "execution_count": 2,
      "outputs": []
    },
    {
      "cell_type": "code",
      "source": [
        "import warnings # Ignorado avisos\n",
        "warnings.filterwarnings(\"ignore\")"
      ],
      "metadata": {
        "id": "Iyw5NggteqQ5"
      },
      "execution_count": 3,
      "outputs": []
    },
    {
      "cell_type": "code",
      "source": [
        "# Quantidade de colunas que serão apresentadas no Datraframe\n",
        "\n",
        "pd.set_option('display.max_columns',100) # Função que controla exibição;\n",
        "                                         # Nesse caso, limita-se o máxmo de colunas exibidas em 100.\n",
        "                                         # pd.set_option('display.precision',2) - Aqui eu estaria definindo a precisão decimal em duas casas."
      ],
      "metadata": {
        "id": "EtCZOGmAe044"
      },
      "execution_count": 4,
      "outputs": []
    },
    {
      "cell_type": "markdown",
      "source": [
        "## Extração"
      ],
      "metadata": {
        "id": "6jiWxQhUf84u"
      }
    },
    {
      "cell_type": "markdown",
      "source": [
        "### Google Drive"
      ],
      "metadata": {
        "id": "PMjTD7Udf5LZ"
      }
    },
    {
      "cell_type": "code",
      "source": [
        "# Função drive.mount('/content/drive') - Trazendo o Google Drive para este ambiente de execução.\n",
        "# Para acesso e manipulação dos arquivos do Google Drive diretamente no meu código.\n",
        "\n",
        "from google.colab import drive # Autorização para acessar o google drive\n",
        "drive.mount('/content/drive')"
      ],
      "metadata": {
        "colab": {
          "base_uri": "https://localhost:8080/"
        },
        "id": "hWTxazJsf8UQ",
        "outputId": "ebafc68b-c61a-4ddd-a286-ca8131dc60d0"
      },
      "execution_count": 6,
      "outputs": [
        {
          "output_type": "stream",
          "name": "stdout",
          "text": [
            "Mounted at /content/drive\n"
          ]
        }
      ]
    },
    {
      "cell_type": "code",
      "source": [
        "# Definindo o caminho para a base de dados que será trabalhada.\n",
        "path = '/content/drive/MyDrive/AD2 - Analista de Dados/Atividades/airbnb.csv'"
      ],
      "metadata": {
        "id": "xwHtsYzgg6EE"
      },
      "execution_count": 7,
      "outputs": []
    },
    {
      "cell_type": "code",
      "source": [
        "# Leitura do arquivo e armazenamentos destes dados em um dataframe(df).\n",
        "df = pd.read_csv(path)"
      ],
      "metadata": {
        "id": "SyiC8clThYBz"
      },
      "execution_count": 8,
      "outputs": []
    },
    {
      "cell_type": "markdown",
      "source": [
        "### Google cloud"
      ],
      "metadata": {
        "id": "IAEE2hGZgGJg"
      }
    },
    {
      "cell_type": "code",
      "source": [
        "# # CONFIGURANDO DA CHAVE DE SEGURANCA - ACESSO O PROJETO\n",
        "# serviceAccount = '/content/naohabemusfolga-a6e34bd4a7d7.json'\n",
        "# os.environ['GOOGLE_APPLICATION_CREDENTIALS'] = serviceAccount"
      ],
      "metadata": {
        "id": "77MUCVKUi0J5"
      },
      "execution_count": null,
      "outputs": []
    },
    {
      "cell_type": "code",
      "source": [
        "# # Configurações Google Cloud Storage - ACESSO AO BUCKET\n",
        "# client = storage.Client()\n",
        "# bucket = client.get_bucket('nao_teras_descanso_no_final_de_semana') # nome da bucket\n",
        "# bucket.blob('airbnb(1).csv')                                     # nome do arquivo\n",
        "# path = 'gs://nao_teras_descanso_no_final_de_semana/Projeto_PandasI/Bruto/airbnb (1).csv'   # gsutil"
      ],
      "metadata": {
        "id": "2shJRUsplPZH"
      },
      "execution_count": null,
      "outputs": []
    },
    {
      "cell_type": "code",
      "source": [
        "# # Abertura da base de dados e cópia de segurança (bucket)\n",
        "# df = pd.read_csv(path,\n",
        "#                  sep=',',\n",
        "#                  encoding='ISO-8859-1')\n",
        "# dfback = df.copy()"
      ],
      "metadata": {
        "id": "MGvd93opoCgQ"
      },
      "execution_count": null,
      "outputs": []
    },
    {
      "cell_type": "markdown",
      "source": [
        "### Pré-análise"
      ],
      "metadata": {
        "id": "TYzSCbK6lPjU"
      }
    },
    {
      "cell_type": "markdown",
      "source": [
        "#### Visualização do dataframe."
      ],
      "metadata": {
        "id": "pmtab6Exlzhq"
      }
    },
    {
      "cell_type": "code",
      "source": [
        "df"
      ],
      "metadata": {
        "id": "9n7Yt8s2hvvi",
        "colab": {
          "base_uri": "https://localhost:8080/",
          "height": 679
        },
        "outputId": "040d8477-6a27-44cc-91e1-08f630368c52"
      },
      "execution_count": 9,
      "outputs": [
        {
          "output_type": "execute_result",
          "data": {
            "text/plain": [
              "      Unnamed: 0      realSum        room_type  room_shared  room_private  \\\n",
              "0              0   194.033698     Private room        False          True   \n",
              "1              1   344.245776     Private room        False          True   \n",
              "2              2   264.101422     Private room        False          True   \n",
              "3              3   433.529398     Private room        False          True   \n",
              "4              4   485.552926     Private room        False          True   \n",
              "...          ...          ...              ...          ...           ...   \n",
              "1098        1098  2486.115342  Entire home/apt        False         False   \n",
              "1099        1099   233.637194     Private room        False          True   \n",
              "1100        1100   317.062311     Private room        False          True   \n",
              "1101        1101  1812.855904  Entire home/apt        False         False   \n",
              "1102        1102   258.008577      Shared room         True         False   \n",
              "\n",
              "      person_capacity  host_is_superhost  multi  biz  cleanliness_rating  \\\n",
              "0                 2.0              False      1    0                10.0   \n",
              "1                 4.0              False      0    0                 8.0   \n",
              "2                 2.0              False      0    1                 9.0   \n",
              "3                 4.0              False      0    1                 9.0   \n",
              "4                 2.0               True      0    0                10.0   \n",
              "...               ...                ...    ...  ...                 ...   \n",
              "1098              2.0              False      0    0                10.0   \n",
              "1099              2.0              False      1    0                10.0   \n",
              "1100              2.0              False      1    0                10.0   \n",
              "1101              4.0              False      0    0                 8.0   \n",
              "1102              2.0              False      0    0                 8.0   \n",
              "\n",
              "      guest_satisfaction_overall  bedrooms      dist  metro_dist  attr_index  \\\n",
              "0                           93.0         1  5.022964    2.539380   78.690379   \n",
              "1                           85.0         1  0.488389    0.239404  631.176378   \n",
              "2                           87.0         1  5.748312    3.651621   75.275877   \n",
              "3                           90.0         2  0.384862    0.439876  493.272534   \n",
              "4                           98.0         1  0.544738    0.318693  552.830324   \n",
              "...                          ...       ...       ...         ...         ...   \n",
              "1098                       100.0         1  2.375833    1.436054  181.198355   \n",
              "1099                        90.0         1  4.719736    0.322263  108.024880   \n",
              "1100                        92.0         1  0.598355    0.751993  440.476515   \n",
              "1101                        84.0         5  1.943020    0.388532  257.948105   \n",
              "1102                        90.0         1  0.280204    0.516217  533.962653   \n",
              "\n",
              "      attr_index_norm  rest_index  rest_index_norm      lng       lat  \n",
              "0            4.166708   98.253896         6.846473  4.90569  52.41772  \n",
              "1           33.421209  837.280757        58.342928  4.90005  52.37432  \n",
              "2            3.985908   95.386955         6.646700  4.97512  52.36103  \n",
              "3           26.119108  875.033098        60.973565  4.89417  52.37663  \n",
              "4           29.272733  815.305740        56.811677  4.90051  52.37508  \n",
              "...               ...         ...              ...      ...       ...  \n",
              "1098         9.594573  225.304203        15.699521  4.85869  52.37677  \n",
              "1099         5.719989  134.775277         9.391335  4.83611  52.34910  \n",
              "1100        23.323524  625.947562        43.616927  4.88897  52.37798  \n",
              "1101        13.658524  336.589237        23.454022  4.90688  52.35794  \n",
              "1102        28.273677  807.492307        56.267226  4.89295  52.37575  \n",
              "\n",
              "[1103 rows x 20 columns]"
            ],
            "text/html": [
              "\n",
              "\n",
              "  <div id=\"df-accc4190-2eb1-4011-8fae-105ed0a645e1\">\n",
              "    <div class=\"colab-df-container\">\n",
              "      <div>\n",
              "<style scoped>\n",
              "    .dataframe tbody tr th:only-of-type {\n",
              "        vertical-align: middle;\n",
              "    }\n",
              "\n",
              "    .dataframe tbody tr th {\n",
              "        vertical-align: top;\n",
              "    }\n",
              "\n",
              "    .dataframe thead th {\n",
              "        text-align: right;\n",
              "    }\n",
              "</style>\n",
              "<table border=\"1\" class=\"dataframe\">\n",
              "  <thead>\n",
              "    <tr style=\"text-align: right;\">\n",
              "      <th></th>\n",
              "      <th>Unnamed: 0</th>\n",
              "      <th>realSum</th>\n",
              "      <th>room_type</th>\n",
              "      <th>room_shared</th>\n",
              "      <th>room_private</th>\n",
              "      <th>person_capacity</th>\n",
              "      <th>host_is_superhost</th>\n",
              "      <th>multi</th>\n",
              "      <th>biz</th>\n",
              "      <th>cleanliness_rating</th>\n",
              "      <th>guest_satisfaction_overall</th>\n",
              "      <th>bedrooms</th>\n",
              "      <th>dist</th>\n",
              "      <th>metro_dist</th>\n",
              "      <th>attr_index</th>\n",
              "      <th>attr_index_norm</th>\n",
              "      <th>rest_index</th>\n",
              "      <th>rest_index_norm</th>\n",
              "      <th>lng</th>\n",
              "      <th>lat</th>\n",
              "    </tr>\n",
              "  </thead>\n",
              "  <tbody>\n",
              "    <tr>\n",
              "      <th>0</th>\n",
              "      <td>0</td>\n",
              "      <td>194.033698</td>\n",
              "      <td>Private room</td>\n",
              "      <td>False</td>\n",
              "      <td>True</td>\n",
              "      <td>2.0</td>\n",
              "      <td>False</td>\n",
              "      <td>1</td>\n",
              "      <td>0</td>\n",
              "      <td>10.0</td>\n",
              "      <td>93.0</td>\n",
              "      <td>1</td>\n",
              "      <td>5.022964</td>\n",
              "      <td>2.539380</td>\n",
              "      <td>78.690379</td>\n",
              "      <td>4.166708</td>\n",
              "      <td>98.253896</td>\n",
              "      <td>6.846473</td>\n",
              "      <td>4.90569</td>\n",
              "      <td>52.41772</td>\n",
              "    </tr>\n",
              "    <tr>\n",
              "      <th>1</th>\n",
              "      <td>1</td>\n",
              "      <td>344.245776</td>\n",
              "      <td>Private room</td>\n",
              "      <td>False</td>\n",
              "      <td>True</td>\n",
              "      <td>4.0</td>\n",
              "      <td>False</td>\n",
              "      <td>0</td>\n",
              "      <td>0</td>\n",
              "      <td>8.0</td>\n",
              "      <td>85.0</td>\n",
              "      <td>1</td>\n",
              "      <td>0.488389</td>\n",
              "      <td>0.239404</td>\n",
              "      <td>631.176378</td>\n",
              "      <td>33.421209</td>\n",
              "      <td>837.280757</td>\n",
              "      <td>58.342928</td>\n",
              "      <td>4.90005</td>\n",
              "      <td>52.37432</td>\n",
              "    </tr>\n",
              "    <tr>\n",
              "      <th>2</th>\n",
              "      <td>2</td>\n",
              "      <td>264.101422</td>\n",
              "      <td>Private room</td>\n",
              "      <td>False</td>\n",
              "      <td>True</td>\n",
              "      <td>2.0</td>\n",
              "      <td>False</td>\n",
              "      <td>0</td>\n",
              "      <td>1</td>\n",
              "      <td>9.0</td>\n",
              "      <td>87.0</td>\n",
              "      <td>1</td>\n",
              "      <td>5.748312</td>\n",
              "      <td>3.651621</td>\n",
              "      <td>75.275877</td>\n",
              "      <td>3.985908</td>\n",
              "      <td>95.386955</td>\n",
              "      <td>6.646700</td>\n",
              "      <td>4.97512</td>\n",
              "      <td>52.36103</td>\n",
              "    </tr>\n",
              "    <tr>\n",
              "      <th>3</th>\n",
              "      <td>3</td>\n",
              "      <td>433.529398</td>\n",
              "      <td>Private room</td>\n",
              "      <td>False</td>\n",
              "      <td>True</td>\n",
              "      <td>4.0</td>\n",
              "      <td>False</td>\n",
              "      <td>0</td>\n",
              "      <td>1</td>\n",
              "      <td>9.0</td>\n",
              "      <td>90.0</td>\n",
              "      <td>2</td>\n",
              "      <td>0.384862</td>\n",
              "      <td>0.439876</td>\n",
              "      <td>493.272534</td>\n",
              "      <td>26.119108</td>\n",
              "      <td>875.033098</td>\n",
              "      <td>60.973565</td>\n",
              "      <td>4.89417</td>\n",
              "      <td>52.37663</td>\n",
              "    </tr>\n",
              "    <tr>\n",
              "      <th>4</th>\n",
              "      <td>4</td>\n",
              "      <td>485.552926</td>\n",
              "      <td>Private room</td>\n",
              "      <td>False</td>\n",
              "      <td>True</td>\n",
              "      <td>2.0</td>\n",
              "      <td>True</td>\n",
              "      <td>0</td>\n",
              "      <td>0</td>\n",
              "      <td>10.0</td>\n",
              "      <td>98.0</td>\n",
              "      <td>1</td>\n",
              "      <td>0.544738</td>\n",
              "      <td>0.318693</td>\n",
              "      <td>552.830324</td>\n",
              "      <td>29.272733</td>\n",
              "      <td>815.305740</td>\n",
              "      <td>56.811677</td>\n",
              "      <td>4.90051</td>\n",
              "      <td>52.37508</td>\n",
              "    </tr>\n",
              "    <tr>\n",
              "      <th>...</th>\n",
              "      <td>...</td>\n",
              "      <td>...</td>\n",
              "      <td>...</td>\n",
              "      <td>...</td>\n",
              "      <td>...</td>\n",
              "      <td>...</td>\n",
              "      <td>...</td>\n",
              "      <td>...</td>\n",
              "      <td>...</td>\n",
              "      <td>...</td>\n",
              "      <td>...</td>\n",
              "      <td>...</td>\n",
              "      <td>...</td>\n",
              "      <td>...</td>\n",
              "      <td>...</td>\n",
              "      <td>...</td>\n",
              "      <td>...</td>\n",
              "      <td>...</td>\n",
              "      <td>...</td>\n",
              "      <td>...</td>\n",
              "    </tr>\n",
              "    <tr>\n",
              "      <th>1098</th>\n",
              "      <td>1098</td>\n",
              "      <td>2486.115342</td>\n",
              "      <td>Entire home/apt</td>\n",
              "      <td>False</td>\n",
              "      <td>False</td>\n",
              "      <td>2.0</td>\n",
              "      <td>False</td>\n",
              "      <td>0</td>\n",
              "      <td>0</td>\n",
              "      <td>10.0</td>\n",
              "      <td>100.0</td>\n",
              "      <td>1</td>\n",
              "      <td>2.375833</td>\n",
              "      <td>1.436054</td>\n",
              "      <td>181.198355</td>\n",
              "      <td>9.594573</td>\n",
              "      <td>225.304203</td>\n",
              "      <td>15.699521</td>\n",
              "      <td>4.85869</td>\n",
              "      <td>52.37677</td>\n",
              "    </tr>\n",
              "    <tr>\n",
              "      <th>1099</th>\n",
              "      <td>1099</td>\n",
              "      <td>233.637194</td>\n",
              "      <td>Private room</td>\n",
              "      <td>False</td>\n",
              "      <td>True</td>\n",
              "      <td>2.0</td>\n",
              "      <td>False</td>\n",
              "      <td>1</td>\n",
              "      <td>0</td>\n",
              "      <td>10.0</td>\n",
              "      <td>90.0</td>\n",
              "      <td>1</td>\n",
              "      <td>4.719736</td>\n",
              "      <td>0.322263</td>\n",
              "      <td>108.024880</td>\n",
              "      <td>5.719989</td>\n",
              "      <td>134.775277</td>\n",
              "      <td>9.391335</td>\n",
              "      <td>4.83611</td>\n",
              "      <td>52.34910</td>\n",
              "    </tr>\n",
              "    <tr>\n",
              "      <th>1100</th>\n",
              "      <td>1100</td>\n",
              "      <td>317.062311</td>\n",
              "      <td>Private room</td>\n",
              "      <td>False</td>\n",
              "      <td>True</td>\n",
              "      <td>2.0</td>\n",
              "      <td>False</td>\n",
              "      <td>1</td>\n",
              "      <td>0</td>\n",
              "      <td>10.0</td>\n",
              "      <td>92.0</td>\n",
              "      <td>1</td>\n",
              "      <td>0.598355</td>\n",
              "      <td>0.751993</td>\n",
              "      <td>440.476515</td>\n",
              "      <td>23.323524</td>\n",
              "      <td>625.947562</td>\n",
              "      <td>43.616927</td>\n",
              "      <td>4.88897</td>\n",
              "      <td>52.37798</td>\n",
              "    </tr>\n",
              "    <tr>\n",
              "      <th>1101</th>\n",
              "      <td>1101</td>\n",
              "      <td>1812.855904</td>\n",
              "      <td>Entire home/apt</td>\n",
              "      <td>False</td>\n",
              "      <td>False</td>\n",
              "      <td>4.0</td>\n",
              "      <td>False</td>\n",
              "      <td>0</td>\n",
              "      <td>0</td>\n",
              "      <td>8.0</td>\n",
              "      <td>84.0</td>\n",
              "      <td>5</td>\n",
              "      <td>1.943020</td>\n",
              "      <td>0.388532</td>\n",
              "      <td>257.948105</td>\n",
              "      <td>13.658524</td>\n",
              "      <td>336.589237</td>\n",
              "      <td>23.454022</td>\n",
              "      <td>4.90688</td>\n",
              "      <td>52.35794</td>\n",
              "    </tr>\n",
              "    <tr>\n",
              "      <th>1102</th>\n",
              "      <td>1102</td>\n",
              "      <td>258.008577</td>\n",
              "      <td>Shared room</td>\n",
              "      <td>True</td>\n",
              "      <td>False</td>\n",
              "      <td>2.0</td>\n",
              "      <td>False</td>\n",
              "      <td>0</td>\n",
              "      <td>0</td>\n",
              "      <td>8.0</td>\n",
              "      <td>90.0</td>\n",
              "      <td>1</td>\n",
              "      <td>0.280204</td>\n",
              "      <td>0.516217</td>\n",
              "      <td>533.962653</td>\n",
              "      <td>28.273677</td>\n",
              "      <td>807.492307</td>\n",
              "      <td>56.267226</td>\n",
              "      <td>4.89295</td>\n",
              "      <td>52.37575</td>\n",
              "    </tr>\n",
              "  </tbody>\n",
              "</table>\n",
              "<p>1103 rows × 20 columns</p>\n",
              "</div>\n",
              "      <button class=\"colab-df-convert\" onclick=\"convertToInteractive('df-accc4190-2eb1-4011-8fae-105ed0a645e1')\"\n",
              "              title=\"Convert this dataframe to an interactive table.\"\n",
              "              style=\"display:none;\">\n",
              "\n",
              "  <svg xmlns=\"http://www.w3.org/2000/svg\" height=\"24px\"viewBox=\"0 0 24 24\"\n",
              "       width=\"24px\">\n",
              "    <path d=\"M0 0h24v24H0V0z\" fill=\"none\"/>\n",
              "    <path d=\"M18.56 5.44l.94 2.06.94-2.06 2.06-.94-2.06-.94-.94-2.06-.94 2.06-2.06.94zm-11 1L8.5 8.5l.94-2.06 2.06-.94-2.06-.94L8.5 2.5l-.94 2.06-2.06.94zm10 10l.94 2.06.94-2.06 2.06-.94-2.06-.94-.94-2.06-.94 2.06-2.06.94z\"/><path d=\"M17.41 7.96l-1.37-1.37c-.4-.4-.92-.59-1.43-.59-.52 0-1.04.2-1.43.59L10.3 9.45l-7.72 7.72c-.78.78-.78 2.05 0 2.83L4 21.41c.39.39.9.59 1.41.59.51 0 1.02-.2 1.41-.59l7.78-7.78 2.81-2.81c.8-.78.8-2.07 0-2.86zM5.41 20L4 18.59l7.72-7.72 1.47 1.35L5.41 20z\"/>\n",
              "  </svg>\n",
              "      </button>\n",
              "\n",
              "\n",
              "\n",
              "    <div id=\"df-eee7729a-609e-4901-a3c0-3d582fd3f706\">\n",
              "      <button class=\"colab-df-quickchart\" onclick=\"quickchart('df-eee7729a-609e-4901-a3c0-3d582fd3f706')\"\n",
              "              title=\"Suggest charts.\"\n",
              "              style=\"display:none;\">\n",
              "\n",
              "<svg xmlns=\"http://www.w3.org/2000/svg\" height=\"24px\"viewBox=\"0 0 24 24\"\n",
              "     width=\"24px\">\n",
              "    <g>\n",
              "        <path d=\"M19 3H5c-1.1 0-2 .9-2 2v14c0 1.1.9 2 2 2h14c1.1 0 2-.9 2-2V5c0-1.1-.9-2-2-2zM9 17H7v-7h2v7zm4 0h-2V7h2v10zm4 0h-2v-4h2v4z\"/>\n",
              "    </g>\n",
              "</svg>\n",
              "      </button>\n",
              "    </div>\n",
              "\n",
              "<style>\n",
              "  .colab-df-quickchart {\n",
              "    background-color: #E8F0FE;\n",
              "    border: none;\n",
              "    border-radius: 50%;\n",
              "    cursor: pointer;\n",
              "    display: none;\n",
              "    fill: #1967D2;\n",
              "    height: 32px;\n",
              "    padding: 0 0 0 0;\n",
              "    width: 32px;\n",
              "  }\n",
              "\n",
              "  .colab-df-quickchart:hover {\n",
              "    background-color: #E2EBFA;\n",
              "    box-shadow: 0px 1px 2px rgba(60, 64, 67, 0.3), 0px 1px 3px 1px rgba(60, 64, 67, 0.15);\n",
              "    fill: #174EA6;\n",
              "  }\n",
              "\n",
              "  [theme=dark] .colab-df-quickchart {\n",
              "    background-color: #3B4455;\n",
              "    fill: #D2E3FC;\n",
              "  }\n",
              "\n",
              "  [theme=dark] .colab-df-quickchart:hover {\n",
              "    background-color: #434B5C;\n",
              "    box-shadow: 0px 1px 3px 1px rgba(0, 0, 0, 0.15);\n",
              "    filter: drop-shadow(0px 1px 2px rgba(0, 0, 0, 0.3));\n",
              "    fill: #FFFFFF;\n",
              "  }\n",
              "</style>\n",
              "\n",
              "    <script>\n",
              "      async function quickchart(key) {\n",
              "        const containerElement = document.querySelector('#' + key);\n",
              "        const charts = await google.colab.kernel.invokeFunction(\n",
              "            'suggestCharts', [key], {});\n",
              "      }\n",
              "    </script>\n",
              "\n",
              "      <script>\n",
              "\n",
              "function displayQuickchartButton(domScope) {\n",
              "  let quickchartButtonEl =\n",
              "    domScope.querySelector('#df-eee7729a-609e-4901-a3c0-3d582fd3f706 button.colab-df-quickchart');\n",
              "  quickchartButtonEl.style.display =\n",
              "    google.colab.kernel.accessAllowed ? 'block' : 'none';\n",
              "}\n",
              "\n",
              "        displayQuickchartButton(document);\n",
              "      </script>\n",
              "      <style>\n",
              "    .colab-df-container {\n",
              "      display:flex;\n",
              "      flex-wrap:wrap;\n",
              "      gap: 12px;\n",
              "    }\n",
              "\n",
              "    .colab-df-convert {\n",
              "      background-color: #E8F0FE;\n",
              "      border: none;\n",
              "      border-radius: 50%;\n",
              "      cursor: pointer;\n",
              "      display: none;\n",
              "      fill: #1967D2;\n",
              "      height: 32px;\n",
              "      padding: 0 0 0 0;\n",
              "      width: 32px;\n",
              "    }\n",
              "\n",
              "    .colab-df-convert:hover {\n",
              "      background-color: #E2EBFA;\n",
              "      box-shadow: 0px 1px 2px rgba(60, 64, 67, 0.3), 0px 1px 3px 1px rgba(60, 64, 67, 0.15);\n",
              "      fill: #174EA6;\n",
              "    }\n",
              "\n",
              "    [theme=dark] .colab-df-convert {\n",
              "      background-color: #3B4455;\n",
              "      fill: #D2E3FC;\n",
              "    }\n",
              "\n",
              "    [theme=dark] .colab-df-convert:hover {\n",
              "      background-color: #434B5C;\n",
              "      box-shadow: 0px 1px 3px 1px rgba(0, 0, 0, 0.15);\n",
              "      filter: drop-shadow(0px 1px 2px rgba(0, 0, 0, 0.3));\n",
              "      fill: #FFFFFF;\n",
              "    }\n",
              "  </style>\n",
              "\n",
              "      <script>\n",
              "        const buttonEl =\n",
              "          document.querySelector('#df-accc4190-2eb1-4011-8fae-105ed0a645e1 button.colab-df-convert');\n",
              "        buttonEl.style.display =\n",
              "          google.colab.kernel.accessAllowed ? 'block' : 'none';\n",
              "\n",
              "        async function convertToInteractive(key) {\n",
              "          const element = document.querySelector('#df-accc4190-2eb1-4011-8fae-105ed0a645e1');\n",
              "          const dataTable =\n",
              "            await google.colab.kernel.invokeFunction('convertToInteractive',\n",
              "                                                     [key], {});\n",
              "          if (!dataTable) return;\n",
              "\n",
              "          const docLinkHtml = 'Like what you see? Visit the ' +\n",
              "            '<a target=\"_blank\" href=https://colab.research.google.com/notebooks/data_table.ipynb>data table notebook</a>'\n",
              "            + ' to learn more about interactive tables.';\n",
              "          element.innerHTML = '';\n",
              "          dataTable['output_type'] = 'display_data';\n",
              "          await google.colab.output.renderOutput(dataTable, element);\n",
              "          const docLink = document.createElement('div');\n",
              "          docLink.innerHTML = docLinkHtml;\n",
              "          element.appendChild(docLink);\n",
              "        }\n",
              "      </script>\n",
              "    </div>\n",
              "  </div>\n"
            ]
          },
          "metadata": {},
          "execution_count": 9
        }
      ]
    },
    {
      "cell_type": "markdown",
      "source": [
        "    A base de dados apresenta 1.103 linhas e 20 colunas (atributos).\n",
        "    Do quantitativo de linhas, 1.102 são registros."
      ],
      "metadata": {
        "id": "soE7AG7cllK0"
      }
    },
    {
      "cell_type": "markdown",
      "source": [
        "    Comandos importantes, a saber:\n",
        "    - df.head() - Visualisação dos 05 primeiros registros da base de dados;\n",
        "    - df.tail() - Visualização dos 05 últimos registros da base de dados;\n",
        "    - df.sample() - Visualização de uma amostra aleatória dos registros de um dataframe;\n",
        "    - df.count() - Retorna a quantidade de observações (registros) em uma base de dados;\n",
        "    "
      ],
      "metadata": {
        "id": "88chHbeyl5wj"
      }
    },
    {
      "cell_type": "markdown",
      "source": [
        "#### Tamanho do dataframe\n",
        "\n",
        "    A função '.shape' retorna uma dimensão (tamenho) do dataframe;\n",
        "    O retorno será no formato '(nº de colunas, nº de linhas);\n",
        "    Importante para entender o quantitativo de dados que será manipulado."
      ],
      "metadata": {
        "id": "eHGQRWwjnChp"
      }
    },
    {
      "cell_type": "code",
      "source": [
        "df.shape"
      ],
      "metadata": {
        "id": "d0yYt0SolrsJ",
        "colab": {
          "base_uri": "https://localhost:8080/"
        },
        "outputId": "f279d50f-aab5-4dea-bc76-cf2a8ad5b438"
      },
      "execution_count": 10,
      "outputs": [
        {
          "output_type": "execute_result",
          "data": {
            "text/plain": [
              "(1103, 20)"
            ]
          },
          "metadata": {},
          "execution_count": 10
        }
      ]
    },
    {
      "cell_type": "markdown",
      "source": [
        "#### Informações detalhadas do dataframe\n",
        "\n",
        "    Auxílio para se ter uma visão geral do banco de dados;\n",
        "    Importante para identificar ausências ou inconsistências;\n",
        "    Extremamente útil para verificação do tipo de dado e necessidade de realizar uma tipagem do mesmo."
      ],
      "metadata": {
        "id": "c9Q2J0cHn8Nu"
      }
    },
    {
      "cell_type": "code",
      "source": [
        "df.info()"
      ],
      "metadata": {
        "id": "2CFfP3D2n7T2",
        "colab": {
          "base_uri": "https://localhost:8080/"
        },
        "outputId": "f152848d-17d9-4ed7-fe8a-0a15a3205802"
      },
      "execution_count": 11,
      "outputs": [
        {
          "output_type": "stream",
          "name": "stdout",
          "text": [
            "<class 'pandas.core.frame.DataFrame'>\n",
            "RangeIndex: 1103 entries, 0 to 1102\n",
            "Data columns (total 20 columns):\n",
            " #   Column                      Non-Null Count  Dtype  \n",
            "---  ------                      --------------  -----  \n",
            " 0   Unnamed: 0                  1103 non-null   int64  \n",
            " 1   realSum                     1103 non-null   float64\n",
            " 2   room_type                   1103 non-null   object \n",
            " 3   room_shared                 1103 non-null   bool   \n",
            " 4   room_private                1103 non-null   bool   \n",
            " 5   person_capacity             1103 non-null   float64\n",
            " 6   host_is_superhost           1103 non-null   bool   \n",
            " 7   multi                       1103 non-null   int64  \n",
            " 8   biz                         1103 non-null   int64  \n",
            " 9   cleanliness_rating          1103 non-null   float64\n",
            " 10  guest_satisfaction_overall  1103 non-null   float64\n",
            " 11  bedrooms                    1103 non-null   int64  \n",
            " 12  dist                        1103 non-null   float64\n",
            " 13  metro_dist                  1103 non-null   float64\n",
            " 14  attr_index                  1103 non-null   float64\n",
            " 15  attr_index_norm             1103 non-null   float64\n",
            " 16  rest_index                  1103 non-null   float64\n",
            " 17  rest_index_norm             1103 non-null   float64\n",
            " 18  lng                         1103 non-null   float64\n",
            " 19  lat                         1103 non-null   float64\n",
            "dtypes: bool(3), float64(12), int64(4), object(1)\n",
            "memory usage: 149.8+ KB\n"
          ]
        }
      ]
    },
    {
      "cell_type": "markdown",
      "source": [
        "#### Backup local do dataframe\n",
        "\n",
        "    Necessário para realizar modificações no dataframe, sem afetar a base de dados original.\n",
        "    Torna-se uma 'nova' base de dados, separada da original."
      ],
      "metadata": {
        "id": "I-GSdQH1o6fv"
      }
    },
    {
      "cell_type": "code",
      "source": [
        "dfbackup1 = df.copy()"
      ],
      "metadata": {
        "id": "0mLPa3Zzo8vl"
      },
      "execution_count": 12,
      "outputs": []
    },
    {
      "cell_type": "markdown",
      "source": [
        "## Transformação"
      ],
      "metadata": {
        "id": "RIPIn3kKtOt_"
      }
    },
    {
      "cell_type": "markdown",
      "source": [
        "    Considerando a pré-visualização disponível através da comando df.\n",
        "    Considerando que foi possível observar que não há duplicidade nos atributos.\n",
        "\n",
        "    Não há necessidade de excluir colunas por duplicidade.\n",
        "\n"
      ],
      "metadata": {
        "id": "4weP1Nhe85Pp"
      }
    },
    {
      "cell_type": "markdown",
      "source": [
        "    Todavia, foi observada redundância quanto aos atributos relacionados aos tipos de quarto.\n",
        "\n",
        "    Serão excluídos dois atributos, que mostram-se desnecessários, já que um outro atributo já contém todas as informações pertinentes."
      ],
      "metadata": {
        "id": "40Cpnpst9-SX"
      }
    },
    {
      "cell_type": "markdown",
      "source": [
        "### Renomeando os atributos"
      ],
      "metadata": {
        "id": "Ywj-exDOhkci"
      }
    },
    {
      "cell_type": "markdown",
      "source": [
        "    inplace = True\n",
        "        - Caso não fosse utilizado, a mudança não ocorreria.\n",
        "        - Seria mostrada apenas uma prévia de como ficaria a base de dados.\n",
        "        - Sua inserção efetiva a execução do comando."
      ],
      "metadata": {
        "id": "PUXa0kWjh5oS"
      }
    },
    {
      "cell_type": "code",
      "source": [
        "df.rename(columns={'Unnamed: 0': 'id', 'room_type':'tipo_quarto','room_shared':'compartilhado','room_private':'privado','person_capacity':'capacidade','bedrooms':'qnt_quartos','cleanliness_rating':'nota_limpeza','host_is_superhost':'superhost','guest_satisfaction_overall':'satisfacao','dist':'distancia_centro','metro_dist':'distancia_metro','realSum':'preco_total','lat':'latitude','lng':'longitude'}, inplace = True)"
      ],
      "metadata": {
        "id": "IKW0NXNdXEnY"
      },
      "execution_count": 13,
      "outputs": []
    },
    {
      "cell_type": "code",
      "source": [
        "df"
      ],
      "metadata": {
        "id": "p09Ub39qiMtb",
        "colab": {
          "base_uri": "https://localhost:8080/",
          "height": 522
        },
        "outputId": "0cfeca3c-895b-4061-e780-35c126e59b5b"
      },
      "execution_count": 14,
      "outputs": [
        {
          "output_type": "execute_result",
          "data": {
            "text/plain": [
              "        id  preco_total      tipo_quarto  compartilhado  privado  capacidade  \\\n",
              "0        0   194.033698     Private room          False     True         2.0   \n",
              "1        1   344.245776     Private room          False     True         4.0   \n",
              "2        2   264.101422     Private room          False     True         2.0   \n",
              "3        3   433.529398     Private room          False     True         4.0   \n",
              "4        4   485.552926     Private room          False     True         2.0   \n",
              "...    ...          ...              ...            ...      ...         ...   \n",
              "1098  1098  2486.115342  Entire home/apt          False    False         2.0   \n",
              "1099  1099   233.637194     Private room          False     True         2.0   \n",
              "1100  1100   317.062311     Private room          False     True         2.0   \n",
              "1101  1101  1812.855904  Entire home/apt          False    False         4.0   \n",
              "1102  1102   258.008577      Shared room           True    False         2.0   \n",
              "\n",
              "      superhost  multi  biz  nota_limpeza  satisfacao  qnt_quartos  \\\n",
              "0         False      1    0          10.0        93.0            1   \n",
              "1         False      0    0           8.0        85.0            1   \n",
              "2         False      0    1           9.0        87.0            1   \n",
              "3         False      0    1           9.0        90.0            2   \n",
              "4          True      0    0          10.0        98.0            1   \n",
              "...         ...    ...  ...           ...         ...          ...   \n",
              "1098      False      0    0          10.0       100.0            1   \n",
              "1099      False      1    0          10.0        90.0            1   \n",
              "1100      False      1    0          10.0        92.0            1   \n",
              "1101      False      0    0           8.0        84.0            5   \n",
              "1102      False      0    0           8.0        90.0            1   \n",
              "\n",
              "      distancia_centro  distancia_metro  attr_index  attr_index_norm  \\\n",
              "0             5.022964         2.539380   78.690379         4.166708   \n",
              "1             0.488389         0.239404  631.176378        33.421209   \n",
              "2             5.748312         3.651621   75.275877         3.985908   \n",
              "3             0.384862         0.439876  493.272534        26.119108   \n",
              "4             0.544738         0.318693  552.830324        29.272733   \n",
              "...                ...              ...         ...              ...   \n",
              "1098          2.375833         1.436054  181.198355         9.594573   \n",
              "1099          4.719736         0.322263  108.024880         5.719989   \n",
              "1100          0.598355         0.751993  440.476515        23.323524   \n",
              "1101          1.943020         0.388532  257.948105        13.658524   \n",
              "1102          0.280204         0.516217  533.962653        28.273677   \n",
              "\n",
              "      rest_index  rest_index_norm  longitude  latitude  \n",
              "0      98.253896         6.846473    4.90569  52.41772  \n",
              "1     837.280757        58.342928    4.90005  52.37432  \n",
              "2      95.386955         6.646700    4.97512  52.36103  \n",
              "3     875.033098        60.973565    4.89417  52.37663  \n",
              "4     815.305740        56.811677    4.90051  52.37508  \n",
              "...          ...              ...        ...       ...  \n",
              "1098  225.304203        15.699521    4.85869  52.37677  \n",
              "1099  134.775277         9.391335    4.83611  52.34910  \n",
              "1100  625.947562        43.616927    4.88897  52.37798  \n",
              "1101  336.589237        23.454022    4.90688  52.35794  \n",
              "1102  807.492307        56.267226    4.89295  52.37575  \n",
              "\n",
              "[1103 rows x 20 columns]"
            ],
            "text/html": [
              "\n",
              "\n",
              "  <div id=\"df-73aa2dc7-07cc-4c10-a0ac-727e29d461c5\">\n",
              "    <div class=\"colab-df-container\">\n",
              "      <div>\n",
              "<style scoped>\n",
              "    .dataframe tbody tr th:only-of-type {\n",
              "        vertical-align: middle;\n",
              "    }\n",
              "\n",
              "    .dataframe tbody tr th {\n",
              "        vertical-align: top;\n",
              "    }\n",
              "\n",
              "    .dataframe thead th {\n",
              "        text-align: right;\n",
              "    }\n",
              "</style>\n",
              "<table border=\"1\" class=\"dataframe\">\n",
              "  <thead>\n",
              "    <tr style=\"text-align: right;\">\n",
              "      <th></th>\n",
              "      <th>id</th>\n",
              "      <th>preco_total</th>\n",
              "      <th>tipo_quarto</th>\n",
              "      <th>compartilhado</th>\n",
              "      <th>privado</th>\n",
              "      <th>capacidade</th>\n",
              "      <th>superhost</th>\n",
              "      <th>multi</th>\n",
              "      <th>biz</th>\n",
              "      <th>nota_limpeza</th>\n",
              "      <th>satisfacao</th>\n",
              "      <th>qnt_quartos</th>\n",
              "      <th>distancia_centro</th>\n",
              "      <th>distancia_metro</th>\n",
              "      <th>attr_index</th>\n",
              "      <th>attr_index_norm</th>\n",
              "      <th>rest_index</th>\n",
              "      <th>rest_index_norm</th>\n",
              "      <th>longitude</th>\n",
              "      <th>latitude</th>\n",
              "    </tr>\n",
              "  </thead>\n",
              "  <tbody>\n",
              "    <tr>\n",
              "      <th>0</th>\n",
              "      <td>0</td>\n",
              "      <td>194.033698</td>\n",
              "      <td>Private room</td>\n",
              "      <td>False</td>\n",
              "      <td>True</td>\n",
              "      <td>2.0</td>\n",
              "      <td>False</td>\n",
              "      <td>1</td>\n",
              "      <td>0</td>\n",
              "      <td>10.0</td>\n",
              "      <td>93.0</td>\n",
              "      <td>1</td>\n",
              "      <td>5.022964</td>\n",
              "      <td>2.539380</td>\n",
              "      <td>78.690379</td>\n",
              "      <td>4.166708</td>\n",
              "      <td>98.253896</td>\n",
              "      <td>6.846473</td>\n",
              "      <td>4.90569</td>\n",
              "      <td>52.41772</td>\n",
              "    </tr>\n",
              "    <tr>\n",
              "      <th>1</th>\n",
              "      <td>1</td>\n",
              "      <td>344.245776</td>\n",
              "      <td>Private room</td>\n",
              "      <td>False</td>\n",
              "      <td>True</td>\n",
              "      <td>4.0</td>\n",
              "      <td>False</td>\n",
              "      <td>0</td>\n",
              "      <td>0</td>\n",
              "      <td>8.0</td>\n",
              "      <td>85.0</td>\n",
              "      <td>1</td>\n",
              "      <td>0.488389</td>\n",
              "      <td>0.239404</td>\n",
              "      <td>631.176378</td>\n",
              "      <td>33.421209</td>\n",
              "      <td>837.280757</td>\n",
              "      <td>58.342928</td>\n",
              "      <td>4.90005</td>\n",
              "      <td>52.37432</td>\n",
              "    </tr>\n",
              "    <tr>\n",
              "      <th>2</th>\n",
              "      <td>2</td>\n",
              "      <td>264.101422</td>\n",
              "      <td>Private room</td>\n",
              "      <td>False</td>\n",
              "      <td>True</td>\n",
              "      <td>2.0</td>\n",
              "      <td>False</td>\n",
              "      <td>0</td>\n",
              "      <td>1</td>\n",
              "      <td>9.0</td>\n",
              "      <td>87.0</td>\n",
              "      <td>1</td>\n",
              "      <td>5.748312</td>\n",
              "      <td>3.651621</td>\n",
              "      <td>75.275877</td>\n",
              "      <td>3.985908</td>\n",
              "      <td>95.386955</td>\n",
              "      <td>6.646700</td>\n",
              "      <td>4.97512</td>\n",
              "      <td>52.36103</td>\n",
              "    </tr>\n",
              "    <tr>\n",
              "      <th>3</th>\n",
              "      <td>3</td>\n",
              "      <td>433.529398</td>\n",
              "      <td>Private room</td>\n",
              "      <td>False</td>\n",
              "      <td>True</td>\n",
              "      <td>4.0</td>\n",
              "      <td>False</td>\n",
              "      <td>0</td>\n",
              "      <td>1</td>\n",
              "      <td>9.0</td>\n",
              "      <td>90.0</td>\n",
              "      <td>2</td>\n",
              "      <td>0.384862</td>\n",
              "      <td>0.439876</td>\n",
              "      <td>493.272534</td>\n",
              "      <td>26.119108</td>\n",
              "      <td>875.033098</td>\n",
              "      <td>60.973565</td>\n",
              "      <td>4.89417</td>\n",
              "      <td>52.37663</td>\n",
              "    </tr>\n",
              "    <tr>\n",
              "      <th>4</th>\n",
              "      <td>4</td>\n",
              "      <td>485.552926</td>\n",
              "      <td>Private room</td>\n",
              "      <td>False</td>\n",
              "      <td>True</td>\n",
              "      <td>2.0</td>\n",
              "      <td>True</td>\n",
              "      <td>0</td>\n",
              "      <td>0</td>\n",
              "      <td>10.0</td>\n",
              "      <td>98.0</td>\n",
              "      <td>1</td>\n",
              "      <td>0.544738</td>\n",
              "      <td>0.318693</td>\n",
              "      <td>552.830324</td>\n",
              "      <td>29.272733</td>\n",
              "      <td>815.305740</td>\n",
              "      <td>56.811677</td>\n",
              "      <td>4.90051</td>\n",
              "      <td>52.37508</td>\n",
              "    </tr>\n",
              "    <tr>\n",
              "      <th>...</th>\n",
              "      <td>...</td>\n",
              "      <td>...</td>\n",
              "      <td>...</td>\n",
              "      <td>...</td>\n",
              "      <td>...</td>\n",
              "      <td>...</td>\n",
              "      <td>...</td>\n",
              "      <td>...</td>\n",
              "      <td>...</td>\n",
              "      <td>...</td>\n",
              "      <td>...</td>\n",
              "      <td>...</td>\n",
              "      <td>...</td>\n",
              "      <td>...</td>\n",
              "      <td>...</td>\n",
              "      <td>...</td>\n",
              "      <td>...</td>\n",
              "      <td>...</td>\n",
              "      <td>...</td>\n",
              "      <td>...</td>\n",
              "    </tr>\n",
              "    <tr>\n",
              "      <th>1098</th>\n",
              "      <td>1098</td>\n",
              "      <td>2486.115342</td>\n",
              "      <td>Entire home/apt</td>\n",
              "      <td>False</td>\n",
              "      <td>False</td>\n",
              "      <td>2.0</td>\n",
              "      <td>False</td>\n",
              "      <td>0</td>\n",
              "      <td>0</td>\n",
              "      <td>10.0</td>\n",
              "      <td>100.0</td>\n",
              "      <td>1</td>\n",
              "      <td>2.375833</td>\n",
              "      <td>1.436054</td>\n",
              "      <td>181.198355</td>\n",
              "      <td>9.594573</td>\n",
              "      <td>225.304203</td>\n",
              "      <td>15.699521</td>\n",
              "      <td>4.85869</td>\n",
              "      <td>52.37677</td>\n",
              "    </tr>\n",
              "    <tr>\n",
              "      <th>1099</th>\n",
              "      <td>1099</td>\n",
              "      <td>233.637194</td>\n",
              "      <td>Private room</td>\n",
              "      <td>False</td>\n",
              "      <td>True</td>\n",
              "      <td>2.0</td>\n",
              "      <td>False</td>\n",
              "      <td>1</td>\n",
              "      <td>0</td>\n",
              "      <td>10.0</td>\n",
              "      <td>90.0</td>\n",
              "      <td>1</td>\n",
              "      <td>4.719736</td>\n",
              "      <td>0.322263</td>\n",
              "      <td>108.024880</td>\n",
              "      <td>5.719989</td>\n",
              "      <td>134.775277</td>\n",
              "      <td>9.391335</td>\n",
              "      <td>4.83611</td>\n",
              "      <td>52.34910</td>\n",
              "    </tr>\n",
              "    <tr>\n",
              "      <th>1100</th>\n",
              "      <td>1100</td>\n",
              "      <td>317.062311</td>\n",
              "      <td>Private room</td>\n",
              "      <td>False</td>\n",
              "      <td>True</td>\n",
              "      <td>2.0</td>\n",
              "      <td>False</td>\n",
              "      <td>1</td>\n",
              "      <td>0</td>\n",
              "      <td>10.0</td>\n",
              "      <td>92.0</td>\n",
              "      <td>1</td>\n",
              "      <td>0.598355</td>\n",
              "      <td>0.751993</td>\n",
              "      <td>440.476515</td>\n",
              "      <td>23.323524</td>\n",
              "      <td>625.947562</td>\n",
              "      <td>43.616927</td>\n",
              "      <td>4.88897</td>\n",
              "      <td>52.37798</td>\n",
              "    </tr>\n",
              "    <tr>\n",
              "      <th>1101</th>\n",
              "      <td>1101</td>\n",
              "      <td>1812.855904</td>\n",
              "      <td>Entire home/apt</td>\n",
              "      <td>False</td>\n",
              "      <td>False</td>\n",
              "      <td>4.0</td>\n",
              "      <td>False</td>\n",
              "      <td>0</td>\n",
              "      <td>0</td>\n",
              "      <td>8.0</td>\n",
              "      <td>84.0</td>\n",
              "      <td>5</td>\n",
              "      <td>1.943020</td>\n",
              "      <td>0.388532</td>\n",
              "      <td>257.948105</td>\n",
              "      <td>13.658524</td>\n",
              "      <td>336.589237</td>\n",
              "      <td>23.454022</td>\n",
              "      <td>4.90688</td>\n",
              "      <td>52.35794</td>\n",
              "    </tr>\n",
              "    <tr>\n",
              "      <th>1102</th>\n",
              "      <td>1102</td>\n",
              "      <td>258.008577</td>\n",
              "      <td>Shared room</td>\n",
              "      <td>True</td>\n",
              "      <td>False</td>\n",
              "      <td>2.0</td>\n",
              "      <td>False</td>\n",
              "      <td>0</td>\n",
              "      <td>0</td>\n",
              "      <td>8.0</td>\n",
              "      <td>90.0</td>\n",
              "      <td>1</td>\n",
              "      <td>0.280204</td>\n",
              "      <td>0.516217</td>\n",
              "      <td>533.962653</td>\n",
              "      <td>28.273677</td>\n",
              "      <td>807.492307</td>\n",
              "      <td>56.267226</td>\n",
              "      <td>4.89295</td>\n",
              "      <td>52.37575</td>\n",
              "    </tr>\n",
              "  </tbody>\n",
              "</table>\n",
              "<p>1103 rows × 20 columns</p>\n",
              "</div>\n",
              "      <button class=\"colab-df-convert\" onclick=\"convertToInteractive('df-73aa2dc7-07cc-4c10-a0ac-727e29d461c5')\"\n",
              "              title=\"Convert this dataframe to an interactive table.\"\n",
              "              style=\"display:none;\">\n",
              "\n",
              "  <svg xmlns=\"http://www.w3.org/2000/svg\" height=\"24px\"viewBox=\"0 0 24 24\"\n",
              "       width=\"24px\">\n",
              "    <path d=\"M0 0h24v24H0V0z\" fill=\"none\"/>\n",
              "    <path d=\"M18.56 5.44l.94 2.06.94-2.06 2.06-.94-2.06-.94-.94-2.06-.94 2.06-2.06.94zm-11 1L8.5 8.5l.94-2.06 2.06-.94-2.06-.94L8.5 2.5l-.94 2.06-2.06.94zm10 10l.94 2.06.94-2.06 2.06-.94-2.06-.94-.94-2.06-.94 2.06-2.06.94z\"/><path d=\"M17.41 7.96l-1.37-1.37c-.4-.4-.92-.59-1.43-.59-.52 0-1.04.2-1.43.59L10.3 9.45l-7.72 7.72c-.78.78-.78 2.05 0 2.83L4 21.41c.39.39.9.59 1.41.59.51 0 1.02-.2 1.41-.59l7.78-7.78 2.81-2.81c.8-.78.8-2.07 0-2.86zM5.41 20L4 18.59l7.72-7.72 1.47 1.35L5.41 20z\"/>\n",
              "  </svg>\n",
              "      </button>\n",
              "\n",
              "\n",
              "\n",
              "    <div id=\"df-f116973e-7e27-4636-afaa-cebcc4b4be1d\">\n",
              "      <button class=\"colab-df-quickchart\" onclick=\"quickchart('df-f116973e-7e27-4636-afaa-cebcc4b4be1d')\"\n",
              "              title=\"Suggest charts.\"\n",
              "              style=\"display:none;\">\n",
              "\n",
              "<svg xmlns=\"http://www.w3.org/2000/svg\" height=\"24px\"viewBox=\"0 0 24 24\"\n",
              "     width=\"24px\">\n",
              "    <g>\n",
              "        <path d=\"M19 3H5c-1.1 0-2 .9-2 2v14c0 1.1.9 2 2 2h14c1.1 0 2-.9 2-2V5c0-1.1-.9-2-2-2zM9 17H7v-7h2v7zm4 0h-2V7h2v10zm4 0h-2v-4h2v4z\"/>\n",
              "    </g>\n",
              "</svg>\n",
              "      </button>\n",
              "    </div>\n",
              "\n",
              "<style>\n",
              "  .colab-df-quickchart {\n",
              "    background-color: #E8F0FE;\n",
              "    border: none;\n",
              "    border-radius: 50%;\n",
              "    cursor: pointer;\n",
              "    display: none;\n",
              "    fill: #1967D2;\n",
              "    height: 32px;\n",
              "    padding: 0 0 0 0;\n",
              "    width: 32px;\n",
              "  }\n",
              "\n",
              "  .colab-df-quickchart:hover {\n",
              "    background-color: #E2EBFA;\n",
              "    box-shadow: 0px 1px 2px rgba(60, 64, 67, 0.3), 0px 1px 3px 1px rgba(60, 64, 67, 0.15);\n",
              "    fill: #174EA6;\n",
              "  }\n",
              "\n",
              "  [theme=dark] .colab-df-quickchart {\n",
              "    background-color: #3B4455;\n",
              "    fill: #D2E3FC;\n",
              "  }\n",
              "\n",
              "  [theme=dark] .colab-df-quickchart:hover {\n",
              "    background-color: #434B5C;\n",
              "    box-shadow: 0px 1px 3px 1px rgba(0, 0, 0, 0.15);\n",
              "    filter: drop-shadow(0px 1px 2px rgba(0, 0, 0, 0.3));\n",
              "    fill: #FFFFFF;\n",
              "  }\n",
              "</style>\n",
              "\n",
              "    <script>\n",
              "      async function quickchart(key) {\n",
              "        const containerElement = document.querySelector('#' + key);\n",
              "        const charts = await google.colab.kernel.invokeFunction(\n",
              "            'suggestCharts', [key], {});\n",
              "      }\n",
              "    </script>\n",
              "\n",
              "      <script>\n",
              "\n",
              "function displayQuickchartButton(domScope) {\n",
              "  let quickchartButtonEl =\n",
              "    domScope.querySelector('#df-f116973e-7e27-4636-afaa-cebcc4b4be1d button.colab-df-quickchart');\n",
              "  quickchartButtonEl.style.display =\n",
              "    google.colab.kernel.accessAllowed ? 'block' : 'none';\n",
              "}\n",
              "\n",
              "        displayQuickchartButton(document);\n",
              "      </script>\n",
              "      <style>\n",
              "    .colab-df-container {\n",
              "      display:flex;\n",
              "      flex-wrap:wrap;\n",
              "      gap: 12px;\n",
              "    }\n",
              "\n",
              "    .colab-df-convert {\n",
              "      background-color: #E8F0FE;\n",
              "      border: none;\n",
              "      border-radius: 50%;\n",
              "      cursor: pointer;\n",
              "      display: none;\n",
              "      fill: #1967D2;\n",
              "      height: 32px;\n",
              "      padding: 0 0 0 0;\n",
              "      width: 32px;\n",
              "    }\n",
              "\n",
              "    .colab-df-convert:hover {\n",
              "      background-color: #E2EBFA;\n",
              "      box-shadow: 0px 1px 2px rgba(60, 64, 67, 0.3), 0px 1px 3px 1px rgba(60, 64, 67, 0.15);\n",
              "      fill: #174EA6;\n",
              "    }\n",
              "\n",
              "    [theme=dark] .colab-df-convert {\n",
              "      background-color: #3B4455;\n",
              "      fill: #D2E3FC;\n",
              "    }\n",
              "\n",
              "    [theme=dark] .colab-df-convert:hover {\n",
              "      background-color: #434B5C;\n",
              "      box-shadow: 0px 1px 3px 1px rgba(0, 0, 0, 0.15);\n",
              "      filter: drop-shadow(0px 1px 2px rgba(0, 0, 0, 0.3));\n",
              "      fill: #FFFFFF;\n",
              "    }\n",
              "  </style>\n",
              "\n",
              "      <script>\n",
              "        const buttonEl =\n",
              "          document.querySelector('#df-73aa2dc7-07cc-4c10-a0ac-727e29d461c5 button.colab-df-convert');\n",
              "        buttonEl.style.display =\n",
              "          google.colab.kernel.accessAllowed ? 'block' : 'none';\n",
              "\n",
              "        async function convertToInteractive(key) {\n",
              "          const element = document.querySelector('#df-73aa2dc7-07cc-4c10-a0ac-727e29d461c5');\n",
              "          const dataTable =\n",
              "            await google.colab.kernel.invokeFunction('convertToInteractive',\n",
              "                                                     [key], {});\n",
              "          if (!dataTable) return;\n",
              "\n",
              "          const docLinkHtml = 'Like what you see? Visit the ' +\n",
              "            '<a target=\"_blank\" href=https://colab.research.google.com/notebooks/data_table.ipynb>data table notebook</a>'\n",
              "            + ' to learn more about interactive tables.';\n",
              "          element.innerHTML = '';\n",
              "          dataTable['output_type'] = 'display_data';\n",
              "          await google.colab.output.renderOutput(dataTable, element);\n",
              "          const docLink = document.createElement('div');\n",
              "          docLink.innerHTML = docLinkHtml;\n",
              "          element.appendChild(docLink);\n",
              "        }\n",
              "      </script>\n",
              "    </div>\n",
              "  </div>\n"
            ]
          },
          "metadata": {},
          "execution_count": 14
        }
      ]
    },
    {
      "cell_type": "markdown",
      "source": [
        "### Modificando apresentação"
      ],
      "metadata": {
        "id": "NuG6VIFEbsvF"
      }
    },
    {
      "cell_type": "markdown",
      "source": [
        "Colunas - carcteres minúsculos"
      ],
      "metadata": {
        "id": "BfO-phcM6y98"
      }
    },
    {
      "cell_type": "code",
      "source": [
        "colunas = df.columns\n",
        "\n",
        "for coluna in colunas:\n",
        "  if type(coluna) == str:\n",
        "    coluna = str.lower(coluna)\n",
        "  else:\n",
        "    pass\n"
      ],
      "metadata": {
        "id": "Dz8wYK6zogsb"
      },
      "execution_count": 15,
      "outputs": []
    },
    {
      "cell_type": "markdown",
      "source": [
        "#### Registros do atributo 'tipo_quarto'"
      ],
      "metadata": {
        "id": "aI3nexisBYqZ"
      }
    },
    {
      "cell_type": "code",
      "source": [
        "#Demosntrando os registros de tipo de quarto.\n",
        "\n",
        "df['tipo_quarto'].unique()"
      ],
      "metadata": {
        "colab": {
          "base_uri": "https://localhost:8080/"
        },
        "id": "Pse-dqBf6Ppc",
        "outputId": "5b8439a0-2b50-409c-880f-9fa36c64e534"
      },
      "execution_count": 16,
      "outputs": [
        {
          "output_type": "execute_result",
          "data": {
            "text/plain": [
              "array(['Private room', 'Entire home/apt', 'Shared room'], dtype=object)"
            ]
          },
          "metadata": {},
          "execution_count": 16
        }
      ]
    },
    {
      "cell_type": "code",
      "source": [
        "# Criando um dicionário para renomear, já traduzindo, as os registros de tipo de quarto\n",
        "renomeando_tipo_quarto = {\n",
        "    'Entire home/apt': 'APTO/CASA INTEIRA',\n",
        "    'Shared room': 'QUARTO COMPARTILHADO',\n",
        "    'Private room': 'QUARTO PRIVADO'\n",
        "}"
      ],
      "metadata": {
        "id": "bSBu3BkzGg6u"
      },
      "execution_count": 17,
      "outputs": []
    },
    {
      "cell_type": "code",
      "source": [
        "df['tipo_quarto'].replace(renomeando_tipo_quarto, inplace = True)"
      ],
      "metadata": {
        "id": "nW0SOkONBDFI"
      },
      "execution_count": 18,
      "outputs": []
    },
    {
      "cell_type": "code",
      "source": [
        "df"
      ],
      "metadata": {
        "id": "bhdfa2RRHT7T"
      },
      "execution_count": null,
      "outputs": []
    },
    {
      "cell_type": "markdown",
      "source": [
        "#### preco_total"
      ],
      "metadata": {
        "id": "4RC-aUmqmed2"
      }
    },
    {
      "cell_type": "code",
      "source": [
        "df['preco_total'] = df['preco_total'].round(2)"
      ],
      "metadata": {
        "id": "DRp3JiZCjg6F"
      },
      "execution_count": 20,
      "outputs": []
    },
    {
      "cell_type": "code",
      "source": [
        "df['distancia_centro'] = df['distancia_centro'].round(2)"
      ],
      "metadata": {
        "id": "NHbV2x_lqHmg"
      },
      "execution_count": 21,
      "outputs": []
    },
    {
      "cell_type": "code",
      "source": [
        "df['distancia_metro'] = df['distancia_metro'].round(2)"
      ],
      "metadata": {
        "id": "X_1YyUn8rCfg"
      },
      "execution_count": 22,
      "outputs": []
    },
    {
      "cell_type": "code",
      "source": [
        "df['attr_index_norm'] = df['attr_index_norm'].round(2)"
      ],
      "metadata": {
        "id": "ciEFRUnAqetm"
      },
      "execution_count": 23,
      "outputs": []
    },
    {
      "cell_type": "code",
      "source": [
        "df['rest_index_norm'] = df['rest_index_norm'].round(2)"
      ],
      "metadata": {
        "id": "paL9ajcmqpQJ"
      },
      "execution_count": 24,
      "outputs": []
    },
    {
      "cell_type": "code",
      "source": [
        "df"
      ],
      "metadata": {
        "id": "y47qpLnWHYQ0"
      },
      "execution_count": null,
      "outputs": []
    },
    {
      "cell_type": "markdown",
      "source": [
        "### Verificando inconsistências"
      ],
      "metadata": {
        "id": "8-oyQtAIjS0o"
      }
    },
    {
      "cell_type": "code",
      "source": [
        "df['tipo_quarto'].unique() # verificar o que está nos registros do quarto."
      ],
      "metadata": {
        "id": "wyZXvpxctRJ5",
        "colab": {
          "base_uri": "https://localhost:8080/"
        },
        "outputId": "03fc5012-11f8-4ac8-faec-801b467b0b31"
      },
      "execution_count": 26,
      "outputs": [
        {
          "output_type": "execute_result",
          "data": {
            "text/plain": [
              "array(['QUARTO PRIVADO', 'APTO/CASA INTEIRA', 'QUARTO COMPARTILHADO'],\n",
              "      dtype=object)"
            ]
          },
          "metadata": {},
          "execution_count": 26
        }
      ]
    },
    {
      "cell_type": "markdown",
      "source": [
        "      Também pode-se substituir um objeto utilizando o método loc.\n",
        "\n",
        "      df.loc[df.tipo_quarto == 'Private room',['tipo_quarto']] = 'Quarto privado'\n",
        "\n"
      ],
      "metadata": {
        "id": "IuFh4KlLka_k"
      }
    },
    {
      "cell_type": "markdown",
      "source": [
        "\n",
        "      Pelo método '.unique()', pode-se verificar que dentre os registros do 'tipo_quarto', estão 'compartilhado' e 'privado'.\n",
        "\n",
        "      Esses valores compõem dois atributos (colunas) da base de dados.\n",
        "\n",
        "      Será feita uma verificação se há algum quarto que seja compartilhado e privado ao mesmo tempo.\n",
        "\n"
      ],
      "metadata": {
        "id": "Tv381-SXk8sE"
      }
    },
    {
      "cell_type": "code",
      "source": [
        "ftcompartilhado = df.compartilhado == True\n",
        "ftprivado = df.privado == True\n",
        "df.loc[ftcompartilhado & ftprivado]\n",
        "\n",
        "# Através do método loc, o código acima pergunta se há quartos compartilhados e privados, ao mesmo tempo.\n",
        "# & = Ampersand ou E comercial. É o 'AND' da biblioteca pandas."
      ],
      "metadata": {
        "id": "5EX036P2lYL7"
      },
      "execution_count": null,
      "outputs": []
    },
    {
      "cell_type": "markdown",
      "source": [
        "O resultado foi:\n",
        "\n",
        "![image.png](data:image/png;base64,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)\n",
        "      \n",
        "      \n",
        "      Não foi localizado nenhum quarto compartilhado e privado ao mesmo tempo.\n",
        "\n",
        "      Como esses atributos estão presentes na coluna 'tipo_quarto' como registro, serão excluídos posteriormente."
      ],
      "metadata": {
        "id": "f8nJb5Hqq-7x"
      }
    },
    {
      "cell_type": "markdown",
      "source": [
        "### Verificando valores nulos"
      ],
      "metadata": {
        "id": "8lC-Fk80tFeW"
      }
    },
    {
      "cell_type": "markdown",
      "source": [
        "Através do uso do df.info(), temos os seguintes resultados:\n",
        "\n",
        "![image.png](data:image/png;base64,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)\n",
        "\n",
        "\n",
        "      Pela informação detalhada trazida pelo comando, pode-se observar que não há valores nulos.\n",
        "\n",
        "      Essa identificação também pode ser feita pelo comando abaixo:"
      ],
      "metadata": {
        "id": "AKp8wC-Btl_V"
      }
    },
    {
      "cell_type": "code",
      "source": [
        "df.isnull().sum()"
      ],
      "metadata": {
        "id": "0f4QmvwGtWPc"
      },
      "execution_count": null,
      "outputs": []
    },
    {
      "cell_type": "markdown",
      "source": [
        "      df.isna.sum() - Mais uma maneira de exclusão dos nulos.\n",
        "      (df.isna.sum() / len(df)) * 100 - Verificaçáo da porcentagem de nulos (soma nulos/len)"
      ],
      "metadata": {
        "id": "ouLlVxThucnK"
      }
    },
    {
      "cell_type": "markdown",
      "source": [
        "### Atributos a serem analisados:"
      ],
      "metadata": {
        "id": "z0-eu4kfhsla"
      }
    },
    {
      "cell_type": "markdown",
      "source": [
        "Considerando os 5 w's estabelecidos, dentre os atributos acima ilustrados, serão trabalhados os seguintes:\n",
        "\n",
        "    - preco_total\n",
        "    - tipo_quarto (compartilhado e privado);\n",
        "    - capacidade;\n",
        "    - superhost;\n",
        "    - nota_limpeza;\n",
        "    - satisfacao;\n",
        "    - distancia_centro;\n",
        "    - distancia_metro;\n",
        "    - attr_index_norm;\n",
        "    - rest_index_norm."
      ],
      "metadata": {
        "id": "tdcrB2LAI46R"
      }
    },
    {
      "cell_type": "markdown",
      "source": [
        "### Tipagem\n",
        "\n",
        "      Através do 'df.dtypes' verifica-se o tipo de dados que compõem cada atributo"
      ],
      "metadata": {
        "id": "LqmbJ2AryJsd"
      }
    },
    {
      "cell_type": "code",
      "source": [
        "df.dtypes"
      ],
      "metadata": {
        "id": "wsUUpWtwIZhi",
        "colab": {
          "base_uri": "https://localhost:8080/"
        },
        "outputId": "b7add669-3ddc-4276-fedf-0acb14e3ef3c"
      },
      "execution_count": 29,
      "outputs": [
        {
          "output_type": "execute_result",
          "data": {
            "text/plain": [
              "id                    int64\n",
              "preco_total         float64\n",
              "tipo_quarto          object\n",
              "compartilhado          bool\n",
              "privado                bool\n",
              "capacidade          float64\n",
              "superhost              bool\n",
              "multi                 int64\n",
              "biz                   int64\n",
              "nota_limpeza        float64\n",
              "satisfacao          float64\n",
              "qnt_quartos           int64\n",
              "distancia_centro    float64\n",
              "distancia_metro     float64\n",
              "attr_index          float64\n",
              "attr_index_norm     float64\n",
              "rest_index          float64\n",
              "rest_index_norm     float64\n",
              "longitude           float64\n",
              "latitude            float64\n",
              "dtype: object"
            ]
          },
          "metadata": {},
          "execution_count": 29
        }
      ]
    },
    {
      "cell_type": "markdown",
      "source": [
        " Já sabendo os atributos que serão trabalhados, é feita uma análise para saber se a tipagem destes atributos está correta.\n",
        "\n",
        "      preco_total - float64 - OK\n",
        "      tipo_quarto - object - OK\n",
        "      compartilhado - bool - OK\n",
        "      privado - bool - OK      \n",
        "      capacidade - float64 - Precisa de tipagem\n",
        "      superhost - bool - OK\n",
        "      nota_limpeza - float64 - OK\n",
        "      satisfacao - float64 - OK\n",
        "      distancia_centro - float64 - OK\n",
        "      distancia_metro  - float64 - OK\n",
        "      attr_index_norm - float64 - OK\n",
        "      rest_index_norm - float64 - OK"
      ],
      "metadata": {
        "id": "QoshMrPbIj85"
      }
    },
    {
      "cell_type": "markdown",
      "source": [
        "    O atributo 'capacidade' necessita de tipagem. O mesmo está classificado como tipo float.\n",
        "\n",
        "    É sabido pela legenda que o atributo 'capacidade' refere-se à quantidade máxima de pessoas permitida no ambiente.\n",
        "\n",
        "    Considerando que não se quantifica pessoas de forma decimal, será necessária fazer a tipagem para tipo int."
      ],
      "metadata": {
        "id": "oI_Nbr1FJKRQ"
      }
    },
    {
      "cell_type": "code",
      "source": [
        "# .astype() - Método usado para conversão.\n",
        "df['capacidade'] = df['capacidade'].astype(int)"
      ],
      "metadata": {
        "id": "TLAybzMEJR7x"
      },
      "execution_count": 30,
      "outputs": []
    },
    {
      "cell_type": "code",
      "source": [
        "df['id'] = df['id'].astype(str)"
      ],
      "metadata": {
        "id": "0pAwiSNRfBZx"
      },
      "execution_count": 31,
      "outputs": []
    },
    {
      "cell_type": "code",
      "source": [
        "df.dtypes"
      ],
      "metadata": {
        "id": "WoCvw8UgJV2X"
      },
      "execution_count": null,
      "outputs": []
    },
    {
      "cell_type": "markdown",
      "source": [
        "### Excluindo colunas\n",
        "\n",
        "    Para excluir colunas ou linhas de um dataframe utiliza-se o método .drop()\n",
        "\n",
        "    Ao utilizar o método, usa-se a seguinte sintaxe:\n",
        "      df.drop('nome da coluna a ser removida', axis = 1)\n",
        "    \n",
        "    O uso do 'axis = 1' indica que você quer remover uma coluna.\n",
        "    Para remover uma linha, utiliza-se 'axis = 0', com a seguinte sintaxe:\n",
        "      df.drop('número do índice', axis = 1)"
      ],
      "metadata": {
        "id": "aSFBEFP37BWx"
      }
    },
    {
      "cell_type": "code",
      "source": [
        "# Retirada de colunas com problemas e/ou não utilizadas na análise\n",
        "df.drop(['compartilhado',\n",
        "         'privado',\n",
        "         'multi',\n",
        "         'biz',\n",
        "         'qnt_quartos',\n",
        "         'attr_index',\n",
        "         'rest_index',\n",
        "         'longitude',\n",
        "         'latitude'],axis=1,inplace=True)"
      ],
      "metadata": {
        "id": "ptCXe9nX6wHL"
      },
      "execution_count": 33,
      "outputs": []
    },
    {
      "cell_type": "code",
      "source": [
        "df"
      ],
      "metadata": {
        "id": "q2gQGpPa9Dso"
      },
      "execution_count": null,
      "outputs": []
    },
    {
      "cell_type": "code",
      "source": [
        "dfbackup2 = df.copy()"
      ],
      "metadata": {
        "id": "5PrTspas-4_y"
      },
      "execution_count": 35,
      "outputs": []
    },
    {
      "cell_type": "markdown",
      "source": [
        "### Criando um novo dataframe"
      ],
      "metadata": {
        "id": "MSqcOUo296es"
      }
    },
    {
      "cell_type": "code",
      "source": [
        "df_final = df\n"
      ],
      "metadata": {
        "id": "IInAxfbS9nw9"
      },
      "execution_count": 36,
      "outputs": []
    },
    {
      "cell_type": "code",
      "source": [
        "df_final"
      ],
      "metadata": {
        "id": "w1d5FMTb9u6s"
      },
      "execution_count": null,
      "outputs": []
    },
    {
      "cell_type": "markdown",
      "source": [
        "## Verificando a qualidade dos dados\n",
        "\n",
        "      Validação Schema: Define o esquema do Dataframe, especificando tipos dedados e restrições para cada coluna.\n",
        "\n",
        "      O Schema valida e garante a integridade dos dados.\n",
        "\n",
        "      A sintaxe para este comando é:\n",
        "        schema = pa.DataFrameSchema({'nome da coluna': pa.Column(pa.tipo de dado),\n",
        "        })\n",
        "      \n",
        "      O comando 'schema.validate(df)' faz que o dataframe seja validado em relação ao schema.\n",
        "        - Cada coluna do DataFrame é verificada em relação às regras e restrições definidas no schema.\n",
        "        - Caso alguma coluna não atenda às regras, uma exceção será lançada indicando o motivo da falha na validação.\n"
      ],
      "metadata": {
        "id": "dG9T-48ztt-5"
      }
    },
    {
      "cell_type": "code",
      "source": [
        "# Nossas colunas do dataframe\n",
        "df_final.dtypes"
      ],
      "metadata": {
        "colab": {
          "base_uri": "https://localhost:8080/"
        },
        "id": "O-OCnEAC5eyz",
        "outputId": "9e594be4-bbec-4691-ff61-b87f9cc9f5d3"
      },
      "execution_count": 38,
      "outputs": [
        {
          "output_type": "execute_result",
          "data": {
            "text/plain": [
              "id                   object\n",
              "preco_total         float64\n",
              "tipo_quarto          object\n",
              "capacidade            int64\n",
              "superhost              bool\n",
              "nota_limpeza        float64\n",
              "satisfacao          float64\n",
              "distancia_centro    float64\n",
              "distancia_metro     float64\n",
              "attr_index_norm     float64\n",
              "rest_index_norm     float64\n",
              "dtype: object"
            ]
          },
          "metadata": {},
          "execution_count": 38
        }
      ]
    },
    {
      "cell_type": "code",
      "source": [
        "# Definir o esquema de validação\n",
        "schema = pa.DataFrameSchema({'id': pa.Column(pa.String),\n",
        "                            'preco_total': pa.Column(pa.Float),\n",
        "                            'tipo_quarto': pa.Column(pa.String),\n",
        "                            'capacidade': pa.Column(pa.Int),\n",
        "                            'superhost': pa.Column(pa.Bool),\n",
        "                            'nota_limpeza': pa.Column(pa.Float),\n",
        "                            'satisfacao': pa.Column(pa.Float),\n",
        "                            'distancia_centro': pa.Column(pa.Float),\n",
        "                            'distancia_metro': pa.Column(pa.Float),\n",
        "                            'attr_index_norm': pa.Column(pa.Float),\n",
        "                            'rest_index_norm': pa.Column(pa.Float),\n",
        "                            })\n",
        "\n"
      ],
      "metadata": {
        "id": "psZ5gqcF5iJS"
      },
      "execution_count": 39,
      "outputs": []
    },
    {
      "cell_type": "code",
      "source": [
        "# Validar o DataFrame\n",
        "schema.validate(df)"
      ],
      "metadata": {
        "id": "MdbqhVLk6-Rw"
      },
      "execution_count": null,
      "outputs": []
    },
    {
      "cell_type": "markdown",
      "source": [
        "### Backup local do dataframe tratado"
      ],
      "metadata": {
        "id": "c8ZoECs271CJ"
      }
    },
    {
      "cell_type": "code",
      "source": [
        "dfback3 = df.copy()"
      ],
      "metadata": {
        "id": "RSwYrEZJ78de"
      },
      "execution_count": 41,
      "outputs": []
    },
    {
      "cell_type": "markdown",
      "source": [
        "### Carregando arquivo tratado na Google Cloud Plataform"
      ],
      "metadata": {
        "id": "h8uKteDt_K5f"
      }
    },
    {
      "cell_type": "code",
      "source": [
        "# df_final.to_csv('gs://nao_teras_descanso_no_final_de_semana/Projeto_PandasI/Tratado/airbnb_tratado.csv', index = False)"
      ],
      "metadata": {
        "id": "59bE-Hsi9sB8"
      },
      "execution_count": null,
      "outputs": []
    },
    {
      "cell_type": "markdown",
      "source": [
        "## Análises"
      ],
      "metadata": {
        "id": "92VXEH_hJ8Hv"
      }
    },
    {
      "cell_type": "markdown",
      "source": [
        "### Método describe\n",
        "\n",
        "      Retorna todas as medidas estatísticas dos atributos."
      ],
      "metadata": {
        "id": "O9xo5_vOflt0"
      }
    },
    {
      "cell_type": "markdown",
      "source": [
        "### Análise geral"
      ],
      "metadata": {
        "id": "KYfwmqu_fekn"
      }
    },
    {
      "cell_type": "markdown",
      "source": [
        "#### preco_total *x* distância do centro e acesso ao metrô."
      ],
      "metadata": {
        "id": "5KwvBs4mf6sU"
      }
    },
    {
      "cell_type": "code",
      "source": [
        "# Medidas estatísticas do atributo preço\n",
        "(df['preco_total'].describe()).round(2)"
      ],
      "metadata": {
        "id": "lLrnX0i9QhqD",
        "colab": {
          "base_uri": "https://localhost:8080/"
        },
        "outputId": "cfd497a1-2289-4ba0-c43a-faa3c823fe1c"
      },
      "execution_count": 45,
      "outputs": [
        {
          "output_type": "execute_result",
          "data": {
            "text/plain": [
              "count    1103.00\n",
              "mean      545.02\n",
              "std       416.97\n",
              "min       128.89\n",
              "25%       309.80\n",
              "50%       430.25\n",
              "75%       657.32\n",
              "max      7782.91\n",
              "Name: preco_total, dtype: float64"
            ]
          },
          "metadata": {},
          "execution_count": 45
        }
      ]
    },
    {
      "cell_type": "markdown",
      "source": [
        "Legenda para as medidas estatísticas:\n",
        "\n",
        "      Count: contagem total de ocorrências;\n",
        "      Mean: média aritmética;\n",
        "      std: Desvio-padrão;\n",
        "      Min: Valor mínimo;\n",
        "      25%: 1º Quartil;\n",
        "      50%: Mediana (.median);\n",
        "      75%: 3º quartil;\n",
        "      Max: Valor máximo."
      ],
      "metadata": {
        "id": "w4_9StezIc3Z"
      }
    },
    {
      "cell_type": "code",
      "source": [
        "print(f\"Os valores do aluguel dos imóveis estão entre {df['preco_total'].min()} e {df['preco_total'].max()} euros.\")\n",
        "print(\"=========================================================================\")\n",
        "print(f\"Média e mediana do atributo 'preco_total' tem os seguintes valores, respectivamente: {df['preco_total'].mean():.2f} e {df['preco_total'].median():.2f}.\")\n",
        "print(\"=========================================================================\")\n",
        "distribuicao_preco_total = (df['preco_total'].mean()) - (df['preco_total'].median())\n",
        "\n",
        "if distribuicao_preco_total > 1000:\n",
        "  print(f\"A diferença entre média e mediana é de {distribuicao_preco_total:.2f} euros.\")\n",
        "else:\n",
        "  print(f\"A diferença entre média e mediana é de {distribuicao_preco_total:.2f} euros.\")\n"
      ],
      "metadata": {
        "id": "Upa7C5A5h4sJ",
        "colab": {
          "base_uri": "https://localhost:8080/"
        },
        "outputId": "4b429f84-e625-4365-e675-dbfd900d0057"
      },
      "execution_count": 46,
      "outputs": [
        {
          "output_type": "stream",
          "name": "stdout",
          "text": [
            "Os valores do aluguel dos imóveis estão entre 128.89 e 7782.91 euros.\n",
            "=========================================================================\n",
            "Média e mediana do atributo 'preco_total' tem os seguintes valores, respectivamente: 545.02 e 430.25.\n",
            "=========================================================================\n",
            "A diferença entre média e mediana é de 114.77 euros.\n"
          ]
        }
      ]
    },
    {
      "cell_type": "code",
      "source": [
        "moda_preco = df['preco_total'].mode()\n",
        "print(moda_preco)"
      ],
      "metadata": {
        "colab": {
          "base_uri": "https://localhost:8080/"
        },
        "id": "r8HQVTS9Kn0w",
        "outputId": "f509c5be-86a9-45c4-93e5-59fb8fd3a323"
      },
      "execution_count": 47,
      "outputs": [
        {
          "output_type": "stream",
          "name": "stdout",
          "text": [
            "0    614.44\n",
            "Name: preco_total, dtype: float64\n"
          ]
        }
      ]
    },
    {
      "cell_type": "markdown",
      "source": [
        "      Poder-se-ia afirmar que há uma distribuição normal dos valores dos imóveis, pela diferença entre média e mediana.\n",
        "      \n",
        "      Todavia, sabe-se que a média é bastante sensível à outliers, que podem influenciar no seu valor.\n",
        "\n",
        "      Especialmente em se tratando de valores de imóveis, por diversos fatores, que apresentam valores muito altos e muito baixos na distribuição"
      ],
      "metadata": {
        "id": "pK1XJc4HJnxw"
      }
    },
    {
      "cell_type": "code",
      "source": [
        "plt.boxplot(df['preco_total'])\n",
        "plt.ylabel('Faixa de valores')\n",
        "plt.title('Descrição estatística dos valores dos imóveis')\n",
        "plt.show()"
      ],
      "metadata": {
        "colab": {
          "base_uri": "https://localhost:8080/",
          "height": 453
        },
        "id": "UnB3PDqELcx2",
        "outputId": "4fda46ba-1548-4803-b4e5-36b12543267b"
      },
      "execution_count": 48,
      "outputs": [
        {
          "output_type": "display_data",
          "data": {
            "text/plain": [
              "<Figure size 640x480 with 1 Axes>"
            ],
            "image/png": "[encoded data removed]"
          },
          "metadata": {}
        }
      ]
    },
    {
      "cell_type": "code",
      "source": [
        "# Buscando uma correlação entre o preço dos imóveis e a distância até o centro da cidade.\n",
        "correlacao_preco_distcentro = df['preco_total'].corr(df['distancia_centro'])\n",
        "coef_determinacao = (correlacao_preco_distcentro ** 2)\n",
        "print(f\"O coeficiente de Pearson entre essas duas variáveis é de {correlacao_preco_distcentro:.2f}.\")\n",
        "print(\"========================================================================\")\n",
        "print(f\"O coeficiente de determinação é de {coef_determinacao:.2f}.\")"
      ],
      "metadata": {
        "colab": {
          "base_uri": "https://localhost:8080/"
        },
        "id": "sEoDiPiupiyr",
        "outputId": "7334bc02-5ebd-47b1-b3df-561b65519091"
      },
      "execution_count": 49,
      "outputs": [
        {
          "output_type": "stream",
          "name": "stdout",
          "text": [
            "O coeficiente de Pearson entre essas duas variáveis é de -0.26.\n",
            "========================================================================\n",
            "O coeficiente de determinação é de 0.07.\n"
          ]
        }
      ]
    },
    {
      "cell_type": "code",
      "source": [
        "# Buscando uma correlação entre o preço dos imóveis e a distância até o acesso ao metrô.\n",
        "correlacao_preco_distmetro = df['preco_total'].corr(df['distancia_metro'])\n",
        "coef_determinacao2 = (correlacao_preco_distmetro ** 2)\n",
        "print(f\"O coeficiente de Pearson entre essas duas variáveis é de {correlacao_preco_distmetro:.2f}.\")\n",
        "print(\"========================================================================\")\n",
        "print(f\"O coeficiente de determinação é de {coef_determinacao2:.2f}.\")"
      ],
      "metadata": {
        "id": "EOdpYIv4tKZ0",
        "colab": {
          "base_uri": "https://localhost:8080/"
        },
        "outputId": "5e4c421d-ae28-4332-c56b-e90feb37d9c3"
      },
      "execution_count": 50,
      "outputs": [
        {
          "output_type": "stream",
          "name": "stdout",
          "text": [
            "O coeficiente de Pearson entre essas duas variáveis é de -0.14.\n",
            "========================================================================\n",
            "O coeficiente de determinação é de 0.02.\n"
          ]
        }
      ]
    },
    {
      "cell_type": "markdown",
      "source": [
        "      Conclui-se que não há uma variação de valor doos imóveis quando se trata do fator de proximidade, seja do centro, seja para acesso ao metrô.\n",
        "\n",
        "      Há de se observar que se trata de um mercado de imóveis. Teoricamente, acesso rápido a esses locais na cidade era pra afetar de forma mais enfática esses valores.\n",
        "      Porém, há outros fatores a serem avaliados, como tipo de espaço que foi alugado, quantidade de pessoas e quartos, etc.\n",
        "\n",
        "      O que pode justificar essa baixa correlação."
      ],
      "metadata": {
        "id": "_p7ol4imsoJY"
      }
    },
    {
      "cell_type": "code",
      "source": [
        "df.plot.scatter(x='distancia_centro', y = 'preco_total')"
      ],
      "metadata": {
        "colab": {
          "base_uri": "https://localhost:8080/",
          "height": 467
        },
        "id": "KjQITY5MZIxf",
        "outputId": "0db4f9e6-cd9e-4bbd-e911-09771f1d3858"
      },
      "execution_count": 51,
      "outputs": [
        {
          "output_type": "execute_result",
          "data": {
            "text/plain": [
              "<Axes: xlabel='distancia_centro', ylabel='preco_total'>"
            ]
          },
          "metadata": {},
          "execution_count": 51
        },
        {
          "output_type": "display_data",
          "data": {
            "text/plain": [
              "<Figure size 640x480 with 1 Axes>"
            ],
            "image/png": "[encoded data removed]"
          },
          "metadata": {}
        }
      ]
    },
    {
      "cell_type": "code",
      "source": [
        "df.plot.scatter(x='distancia_metro', y = 'preco_total')"
      ],
      "metadata": {
        "colab": {
          "base_uri": "https://localhost:8080/",
          "height": 467
        },
        "id": "9VYm4-xvPvKW",
        "outputId": "77406cfd-41be-44ed-c8ef-49096ccd6cf3"
      },
      "execution_count": 52,
      "outputs": [
        {
          "output_type": "execute_result",
          "data": {
            "text/plain": [
              "<Axes: xlabel='distancia_metro', ylabel='preco_total'>"
            ]
          },
          "metadata": {},
          "execution_count": 52
        },
        {
          "output_type": "display_data",
          "data": {
            "text/plain": [
              "<Figure size 640x480 with 1 Axes>"
            ],
            "image/png": "[encoded data removed]"
          },
          "metadata": {}
        }
      ]
    },
    {
      "cell_type": "markdown",
      "source": [
        "      Apesar de demonstrado através da correlaçao que não há influencia na variação de valores, os gráficos de dispersão podem apontar algumas coisas:\n",
        "          - Há uma concentração de imóveis que custam até mil euros e estão distantes até 04 km do centro.\n",
        "          - Há uma concentração de imóveis que custam até mil euros e estão distantes até 02 km do acesso ao metrô."
      ],
      "metadata": {
        "id": "dnEedcwE6f8_"
      }
    },
    {
      "cell_type": "markdown",
      "source": [
        "#### preco_total X atrações turísticas e restaurantes."
      ],
      "metadata": {
        "id": "y66ZRc1eFNQZ"
      }
    },
    {
      "cell_type": "code",
      "source": [
        "# Buscando uma correlação entre o preço dos imóveis e as atrações turísticas.\n",
        "correlacao_preco_turismo = df['preco_total'].corr(df['attr_index_norm'])\n",
        "coef_determinacao_turismo = (correlacao_preco_turismo ** 2)\n",
        "print(f\"O coeficiente de Pearson entre essas duas variáveis é de {correlacao_preco_turismo:.2f}.\")\n",
        "print(\"========================================================================\")\n",
        "print(f\"O coeficiente de determinação é de {coef_determinacao_turismo:.2f}.\")"
      ],
      "metadata": {
        "colab": {
          "base_uri": "https://localhost:8080/"
        },
        "id": "Bo5gkp6s7boj",
        "outputId": "bc2bef66-3e94-4852-eda8-70a5e5974d4a"
      },
      "execution_count": 53,
      "outputs": [
        {
          "output_type": "stream",
          "name": "stdout",
          "text": [
            "O coeficiente de Pearson entre essas duas variáveis é de 0.24.\n",
            "========================================================================\n",
            "O coeficiente de determinação é de 0.06.\n"
          ]
        }
      ]
    },
    {
      "cell_type": "code",
      "source": [
        "# Buscando uma correlação entre o preço dos imóveis e os restaurantes.\n",
        "correlacao_preco_rest = df['preco_total'].corr(df['rest_index_norm'])\n",
        "coef_determinacao_rest = (correlacao_preco_rest ** 2)\n",
        "print(f\"O coeficiente de Pearson entre essas duas variáveis é de {correlacao_preco_rest:.2f}.\")\n",
        "print(\"========================================================================\")\n",
        "print(f\"O coeficiente de determinação é de {coef_determinacao_rest:.2f}.\")"
      ],
      "metadata": {
        "colab": {
          "base_uri": "https://localhost:8080/"
        },
        "id": "_zM2aHfV8EQT",
        "outputId": "b7eb24be-71f3-40fb-97ee-417f832baa3f"
      },
      "execution_count": 54,
      "outputs": [
        {
          "output_type": "stream",
          "name": "stdout",
          "text": [
            "O coeficiente de Pearson entre essas duas variáveis é de 0.21.\n",
            "========================================================================\n",
            "O coeficiente de determinação é de 0.04.\n"
          ]
        }
      ]
    },
    {
      "cell_type": "code",
      "source": [
        "df.plot.scatter(x='attr_index_norm', y = 'preco_total')"
      ],
      "metadata": {
        "colab": {
          "base_uri": "https://localhost:8080/",
          "height": 467
        },
        "id": "naLpqRb_8acl",
        "outputId": "aa50db8d-f18d-4e0a-8150-4440484c5465"
      },
      "execution_count": 55,
      "outputs": [
        {
          "output_type": "execute_result",
          "data": {
            "text/plain": [
              "<Axes: xlabel='attr_index_norm', ylabel='preco_total'>"
            ]
          },
          "metadata": {},
          "execution_count": 55
        },
        {
          "output_type": "display_data",
          "data": {
            "text/plain": [
              "<Figure size 640x480 with 1 Axes>"
            ],
            "image/png": "[encoded data removed]"
          },
          "metadata": {}
        }
      ]
    },
    {
      "cell_type": "code",
      "source": [
        "df.plot.scatter(x='rest_index_norm', y = 'preco_total')"
      ],
      "metadata": {
        "colab": {
          "base_uri": "https://localhost:8080/",
          "height": 467
        },
        "id": "LivrqFS38oOi",
        "outputId": "551e8629-30f5-40a3-c797-300b8e4da159"
      },
      "execution_count": 56,
      "outputs": [
        {
          "output_type": "execute_result",
          "data": {
            "text/plain": [
              "<Axes: xlabel='rest_index_norm', ylabel='preco_total'>"
            ]
          },
          "metadata": {},
          "execution_count": 56
        },
        {
          "output_type": "display_data",
          "data": {
            "text/plain": [
              "<Figure size 640x480 with 1 Axes>"
            ],
            "image/png": "[encoded data removed]"
          },
          "metadata": {}
        }
      ]
    },
    {
      "cell_type": "markdown",
      "source": [
        "Também demonstrado através da correlaçao que as atrações turísticas e os restaurantes não influenciam na variação de valores."
      ],
      "metadata": {
        "id": "E9b9nQM58vnC"
      }
    },
    {
      "cell_type": "markdown",
      "source": [
        "#### Tipo de ambiente"
      ],
      "metadata": {
        "id": "ErgQmmzxAE0I"
      }
    },
    {
      "cell_type": "code",
      "source": [
        "#Trazendo a contagem da categoria Tipo de quarto.\n",
        "\n",
        "df.groupby(['tipo_quarto']).size().sort_values()"
      ],
      "metadata": {
        "colab": {
          "base_uri": "https://localhost:8080/"
        },
        "id": "D1fQS7HiAQrf",
        "outputId": "d115cf04-2f86-496b-f40c-6e65f471feca"
      },
      "execution_count": 57,
      "outputs": [
        {
          "output_type": "execute_result",
          "data": {
            "text/plain": [
              "tipo_quarto\n",
              "QUARTO COMPARTILHADO      6\n",
              "APTO/CASA INTEIRA       538\n",
              "QUARTO PRIVADO          559\n",
              "dtype: int64"
            ]
          },
          "metadata": {},
          "execution_count": 57
        }
      ]
    },
    {
      "cell_type": "code",
      "source": [
        "total_imoveis = (df['tipo_quarto'].count())\n",
        "ft_inteiro = df.tipo_quarto == 'APTO/CASA INTEIRA'\n",
        "ft_compartilhado = df.tipo_quarto == \"QUARTO COMPARTILHADO\"\n",
        "ft_privado = df.tipo_quarto == \"QUARTO PRIVADO\""
      ],
      "metadata": {
        "id": "n3tRvKUUBFhd"
      },
      "execution_count": 58,
      "outputs": []
    },
    {
      "cell_type": "code",
      "source": [
        "# Calculando em porcentagem o tipo de ambiente\n",
        "porcent_inteiro = ft_inteiro.sum() * 100 / total_imoveis\n",
        "porcent_compartilhado = ft_compartilhado.sum() * 100 / total_imoveis\n",
        "porcent_privado = ft_privado.sum() * 100 / total_imoveis\n",
        "\n",
        "print(f\"{porcent_inteiro:.2f}\")\n",
        "print(f\"{porcent_compartilhado:.2f}\")\n",
        "print(f\"{porcent_privado:.2f}\")"
      ],
      "metadata": {
        "colab": {
          "base_uri": "https://localhost:8080/"
        },
        "id": "NYb8zKWfBt7t",
        "outputId": "cb796f98-8f87-496f-f0d5-2b5beda026a3"
      },
      "execution_count": 59,
      "outputs": [
        {
          "output_type": "stream",
          "name": "stdout",
          "text": [
            "48.78\n",
            "0.54\n",
            "50.68\n"
          ]
        }
      ]
    },
    {
      "cell_type": "code",
      "source": [
        "# Gráfico de setores\n",
        "colors = ['#FA8072', '#FFDAB9']\n",
        "df.groupby(['tipo_quarto'],dropna=False).size().sort_values(ascending=False).plot(kind='pie',\n",
        "                                                                                  figsize=(7, 3),\n",
        "                                                                                  autopct='%1.0f%%',\n",
        "                                                                                  startangle=90,\n",
        "                                                                                  colors=colors)\n",
        "plt.title('Percentual de tipos de quarto')\n",
        "plt.show()"
      ],
      "metadata": {
        "colab": {
          "base_uri": "https://localhost:8080/",
          "height": 290
        },
        "id": "bveEMNbK0nJ2",
        "outputId": "6bdd8a07-ac16-441c-986c-09d96c1941b0"
      },
      "execution_count": 60,
      "outputs": [
        {
          "output_type": "display_data",
          "data": {
            "text/plain": [
              "<Figure size 700x300 with 1 Axes>"
            ],
            "image/png": "[encoded data removed]"
          },
          "metadata": {}
        }
      ]
    },
    {
      "cell_type": "markdown",
      "source": [
        "      Do total de imóveis alugados, salta aos olhos a maior demanda:\n",
        "        - Aluguel de espaço inteiro(50,68%) e espaço com quarto privado (48,78%)."
      ],
      "metadata": {
        "id": "LSzZICTnz2uF"
      }
    },
    {
      "cell_type": "markdown",
      "source": [
        "#### Capacidade"
      ],
      "metadata": {
        "id": "oAaOxp_LBCuY"
      }
    },
    {
      "cell_type": "code",
      "source": [
        "# Total de alugueis por capacidade.\n",
        "\n",
        "df.groupby(['capacidade']).size().sort_values()"
      ],
      "metadata": {
        "colab": {
          "base_uri": "https://localhost:8080/"
        },
        "id": "rNDSfJ_K2Ulp",
        "outputId": "fc51b381-214d-4c72-f6dd-61e5de7a0835"
      },
      "execution_count": 61,
      "outputs": [
        {
          "output_type": "execute_result",
          "data": {
            "text/plain": [
              "capacidade\n",
              "5     11\n",
              "6     24\n",
              "3     79\n",
              "4    333\n",
              "2    656\n",
              "dtype: int64"
            ]
          },
          "metadata": {},
          "execution_count": 61
        }
      ]
    },
    {
      "cell_type": "code",
      "source": [
        "# Gráfico de alugueis por capacidade.\n",
        "df.groupby(['capacidade']).size().sort_values().plot.bar()"
      ],
      "metadata": {
        "colab": {
          "base_uri": "https://localhost:8080/",
          "height": 461
        },
        "id": "1iGcpS9h27c5",
        "outputId": "260b7eb9-4456-4d31-c417-65d9078942f9"
      },
      "execution_count": 62,
      "outputs": [
        {
          "output_type": "execute_result",
          "data": {
            "text/plain": [
              "<Axes: xlabel='capacidade'>"
            ]
          },
          "metadata": {},
          "execution_count": 62
        },
        {
          "output_type": "display_data",
          "data": {
            "text/plain": [
              "<Figure size 640x480 with 1 Axes>"
            ],
            "image/png": "[encoded data removed]"
          },
          "metadata": {}
        }
      ]
    },
    {
      "cell_type": "code",
      "source": [
        "ft_cap_4 = (df.capacidade >= 2) & (df.capacidade <= 4)\n",
        "ft_cap5 = (df.capacidade >= 5) & (df.capacidade <= 6)\n",
        "imoveis_alugados = df['capacidade'].count()\n",
        "porcent_cap4 = ft_cap_4.sum() * 100 / imoveis_alugados\n",
        "porcent_cap5 = ft_cap5.sum() * 100 / imoveis_alugados\n",
        "print(f\"O número de imóveis que permitem até 4 pessoas corresponde a {porcent_cap4:.2f}% de todos o aluguéis.\")\n",
        "print(f\"O número de imóveis que permitem a partir de 5 pessoas corresponde a {porcent_cap5:.2f}% de todos o aluguéis.\")\n",
        "\n"
      ],
      "metadata": {
        "colab": {
          "base_uri": "https://localhost:8080/"
        },
        "id": "VzIa-vWz9LyR",
        "outputId": "b5570a18-2dc0-4323-f037-56d0eddf8616"
      },
      "execution_count": 63,
      "outputs": [
        {
          "output_type": "stream",
          "name": "stdout",
          "text": [
            "O número de imóveis que permitem até 4 pessoas corresponde a 96.83% de todos o aluguéis.\n",
            "O número de imóveis que permitem a partir de 5 pessoas corresponde a 3.17% de todos o aluguéis.\n"
          ]
        }
      ]
    },
    {
      "cell_type": "code",
      "source": [
        "# Do total de casas inteiras, quantas abrangem a partir de 5 pessoas?\n",
        "filtro_capacidade = df[df['capacidade'] >= 5].groupby('tipo_quarto').size()\n",
        "filtro_capacidade['APTO/CASA INTEIRA']\n",
        "porcent_filtro_capacidade = filtro_capacidade * 100 / ft_inteiro.sum()\n",
        "print(porcent_filtro_capacidade)"
      ],
      "metadata": {
        "id": "BtnW0q3RSrLP",
        "colab": {
          "base_uri": "https://localhost:8080/"
        },
        "outputId": "b36b839f-8963-4282-b18d-aa62e07bfa1a"
      },
      "execution_count": 64,
      "outputs": [
        {
          "output_type": "stream",
          "name": "stdout",
          "text": [
            "tipo_quarto\n",
            "APTO/CASA INTEIRA    6.319703\n",
            "QUARTO PRIVADO       0.185874\n",
            "dtype: float64\n"
          ]
        }
      ]
    },
    {
      "cell_type": "markdown",
      "source": [
        "    Apenas 6% das casas inteiras que foram alugadas permitem mais de 5 pessoas."
      ],
      "metadata": {
        "id": "D4mMyzXgAy4f"
      }
    },
    {
      "cell_type": "markdown",
      "source": [
        "#### Superhosts"
      ],
      "metadata": {
        "id": "zYQi8ioSCA5u"
      }
    },
    {
      "cell_type": "code",
      "source": [
        "# CALCULANDO QUANTOS SUPERHOST HÁ NA BASE DE DADOS\n",
        "\n",
        "contador_superhost = df['superhost'].value_counts()[True]\n",
        "print(contador_superhost)\n",
        "\n",
        "# PORCENTAGEM DE SUPERHOSTS\n",
        "\n",
        "percent_superhosts = contador_superhost * 100 / total_imoveis\n",
        "print(f\"Do total de hosts, {percent_superhosts:.1f} por cento são considerados superhosts.\")\n"
      ],
      "metadata": {
        "id": "OL7walunXDJv",
        "colab": {
          "base_uri": "https://localhost:8080/"
        },
        "outputId": "76fb3176-bd14-4b80-f6bb-d340a8adc25a"
      },
      "execution_count": 66,
      "outputs": [
        {
          "output_type": "stream",
          "name": "stdout",
          "text": [
            "323\n",
            "Do total de hosts, 29.3 por cento são considerados superhosts.\n"
          ]
        }
      ]
    },
    {
      "cell_type": "code",
      "source": [
        "plt.bar(['True', 'False'], [contador_superhost, len(df) - contador_superhost])\n",
        "plt.xlabel('Valores')\n",
        "plt.ylabel('Contagem')\n",
        "plt.title('Contagem de Valores True/False')\n",
        "\n",
        "# Exibe o gráfico\n",
        "plt.show()"
      ],
      "metadata": {
        "colab": {
          "base_uri": "https://localhost:8080/",
          "height": 472
        },
        "id": "dwdMF6bnwPHE",
        "outputId": "62d7be6b-b308-413b-8499-b02476a7bc59"
      },
      "execution_count": 67,
      "outputs": [
        {
          "output_type": "display_data",
          "data": {
            "text/plain": [
              "<Figure size 640x480 with 1 Axes>"
            ],
            "image/png": "[encoded data removed]"
          },
          "metadata": {}
        }
      ]
    },
    {
      "cell_type": "markdown",
      "source": [
        "      Apenas 29% dos anfitriões de Amsterdã são considerados superhosts."
      ],
      "metadata": {
        "id": "l_TVaio2CLcb"
      }
    },
    {
      "cell_type": "markdown",
      "source": [
        "#### Satisfação geral e satisfação com a limpeza\n",
        "\n",
        "      Satisfação Geral - Escala de 0 a 100;\n",
        "      A referência para os cálculos são:\n",
        "          - Alta: acima de 80;\n",
        "          - Média: Entre 60 e 80;\n",
        "          - Baixa: Até 60.\n",
        "      \n",
        "      Satisfação com limpeza - Escala de 0 a 10;\n",
        "      A referência para os cálculos são:\n",
        "          - Alta: acima de 8;\n",
        "          - Média: Entre 6 e 8;\n",
        "          - Baixa: Até 6.\n"
      ],
      "metadata": {
        "id": "3yCeJ6cCH7lv"
      }
    },
    {
      "cell_type": "code",
      "source": [
        "ft_alta_satisfacao = (df.satisfacao >= 80).sum()\n",
        "ft_media_satisfacao = ((df.satisfacao >= 60) & (df.satisfacao < 80)).sum()\n",
        "ft_baixa_satisfacao = (df.satisfacao <= 60).sum()\n",
        "print(ft_alta_satisfacao)\n",
        "print(ft_media_satisfacao)\n",
        "print(ft_baixa_satisfacao)"
      ],
      "metadata": {
        "colab": {
          "base_uri": "https://localhost:8080/"
        },
        "id": "Vq5JapqBFHJL",
        "outputId": "32b7561f-bbef-4606-a74d-35a47a461772"
      },
      "execution_count": 68,
      "outputs": [
        {
          "output_type": "stream",
          "name": "stdout",
          "text": [
            "1087\n",
            "14\n",
            "5\n"
          ]
        }
      ]
    },
    {
      "cell_type": "code",
      "source": [
        "imoveis_alugados = df['satisfacao'].count()\n",
        "porcent_alta_satis = ft_alta_satisfacao * 100 / imoveis_alugados\n",
        "porcent_media_satis = ft_media_satisfacao * 100 / imoveis_alugados\n",
        "porcent_baixa_satis = ft_baixa_satisfacao * 100 / imoveis_alugados\n",
        "print(f\"O número de imóveis com alta satisfação geral corresponde a {porcent_alta_satis:.2f}% de todos o aluguéis.\")\n",
        "print(f\"O número de imóveis com média satisfação geral  corresponde a {porcent_media_satis:.2f}% de todos o aluguéis.\")\n",
        "print(f\"O número de imóveis com baixa  geral  corresponde a {porcent_baixa_satis:.2f}% de todos o aluguéis.\")"
      ],
      "metadata": {
        "colab": {
          "base_uri": "https://localhost:8080/"
        },
        "id": "gJ8wkrjiK8eS",
        "outputId": "314eb3fa-a6cc-4584-8a46-63b50ff2fb07"
      },
      "execution_count": 69,
      "outputs": [
        {
          "output_type": "stream",
          "name": "stdout",
          "text": [
            "O número de imóveis com alta satisfação geral corresponde a 98.55% de todos o aluguéis.\n",
            "O número de imóveis com média satisfação geral  corresponde a 1.27% de todos o aluguéis.\n",
            "O número de imóveis com baixa  geral  corresponde a 0.45% de todos o aluguéis.\n"
          ]
        }
      ]
    },
    {
      "cell_type": "code",
      "source": [
        "categorias = ['Alta Satisfação', 'Média Satisfação', 'Baixa Satisfação']\n",
        "contagens = [ft_alta_satisfacao, ft_media_satisfacao, ft_baixa_satisfacao]\n",
        "\n",
        "plt.barh(categorias, contagens)\n",
        "plt.xlabel('Contagem')\n",
        "plt.ylabel('Nível de Satisfação')\n",
        "plt.title('Distribuição de Satisfação')\n",
        "plt.show()"
      ],
      "metadata": {
        "colab": {
          "base_uri": "https://localhost:8080/",
          "height": 472
        },
        "id": "gzDd0ekXRD8N",
        "outputId": "1e57928d-fae5-4e62-c661-a28bae406559"
      },
      "execution_count": 71,
      "outputs": [
        {
          "output_type": "display_data",
          "data": {
            "text/plain": [
              "<Figure size 640x480 with 1 Axes>"
            ],
            "image/png": "[encoded data removed]"
          },
          "metadata": {}
        }
      ]
    },
    {
      "cell_type": "code",
      "source": [
        "ft_alta_limpeza = (df.nota_limpeza >= 8).sum()\n",
        "ft_media_limpeza = ((df.nota_limpeza >= 6) & (df.nota_limpeza < 8)).sum()\n",
        "ft_baixa_limpeza = (df.nota_limpeza <= 6).sum()\n",
        "print(ft_alta_limpeza)\n",
        "print(ft_media_limpeza)\n",
        "print(ft_baixa_limpeza)"
      ],
      "metadata": {
        "colab": {
          "base_uri": "https://localhost:8080/"
        },
        "id": "QyQRvJrjNTYf",
        "outputId": "3226734c-b389-4268-a7b7-ec89db425f88"
      },
      "execution_count": 72,
      "outputs": [
        {
          "output_type": "stream",
          "name": "stdout",
          "text": [
            "1080\n",
            "20\n",
            "12\n"
          ]
        }
      ]
    },
    {
      "cell_type": "code",
      "source": [
        "imoveis_alugados = df['nota_limpeza'].count()\n",
        "porcent_alta_limp = ft_alta_limpeza * 100 / imoveis_alugados\n",
        "porcent_media_limp = ft_media_limpeza * 100 / imoveis_alugados\n",
        "porcent_baixa_limp = ft_baixa_limpeza * 100 / imoveis_alugados\n",
        "print(f\"O número de imóveis com alta satisfação com a limpeza corresponde a {porcent_alta_limp:.2f}% de todos o aluguéis.\")\n",
        "print(f\"O número de imóveis com média satisfação com a limpeza corresponde a {porcent_media_limp:.2f}% de todos o aluguéis.\")\n",
        "print(f\"O número de imóveis com baixa  satisfação com a limpeza corresponde a {porcent_baixa_limp:.2f}% de todos o aluguéis.\")"
      ],
      "metadata": {
        "colab": {
          "base_uri": "https://localhost:8080/"
        },
        "id": "sAUF80ExSpmp",
        "outputId": "d116a751-9add-45f3-98c2-a600e5a268ac"
      },
      "execution_count": 73,
      "outputs": [
        {
          "output_type": "stream",
          "name": "stdout",
          "text": [
            "O número de imóveis com alta satisfação com a limpeza corresponde a 97.91% de todos o aluguéis.\n",
            "O número de imóveis com média satisfação com a limpeza corresponde a 1.81% de todos o aluguéis.\n",
            "O número de imóveis com baixa  satisfação com a limpeza corresponde a 1.09% de todos o aluguéis.\n"
          ]
        }
      ]
    },
    {
      "cell_type": "code",
      "source": [
        "categorias = ['Alta Satisfação', 'Média Satisfação', 'Baixa Satisfação']\n",
        "contagens = [ft_alta_limpeza, ft_media_limpeza, ft_baixa_limpeza]\n",
        "\n",
        "plt.barh(categorias, contagens)\n",
        "plt.xlabel('Contagem')\n",
        "plt.ylabel('Nível de Satisfação')\n",
        "plt.title('Distribuição de Satisfação com a limpeza')\n",
        "plt.show()"
      ],
      "metadata": {
        "colab": {
          "base_uri": "https://localhost:8080/",
          "height": 472
        },
        "id": "XcBsd-CFdEdI",
        "outputId": "64cedfc1-5e27-4582-c07f-7168434ce6a0"
      },
      "execution_count": 75,
      "outputs": [
        {
          "output_type": "display_data",
          "data": {
            "text/plain": [
              "<Figure size 640x480 with 1 Axes>"
            ],
            "image/png": "[encoded data removed]"
          },
          "metadata": {}
        }
      ]
    },
    {
      "cell_type": "markdown",
      "source": [
        "      O nível de satisfação geral e limpeza é alto, tendo como referência um valor de avaliação para maior que 80 e maior que 8, respectivamente.\n",
        "\n",
        "      O número de imóveis com alta satisfação geral corresponde a 98.55% de todos o aluguéis.\n",
        "\n",
        "      O número de imóveis com alta satisfação com a limpeza corresponde a 97.91%.\n"
      ],
      "metadata": {
        "id": "naYlVVHHR92p"
      }
    },
    {
      "cell_type": "markdown",
      "source": [
        "### Analisando um dataframe com média a baixa satisfação geral"
      ],
      "metadata": {
        "id": "nKoI8-T4Ud-H"
      }
    },
    {
      "cell_type": "code",
      "source": [
        "df_media_baixa_satisfacao = df.loc[(df['satisfacao'] >= 60) & (df['satisfacao'] < 80) | (df['satisfacao'] <= 60)]"
      ],
      "metadata": {
        "id": "yHRdKPypdr0b"
      },
      "execution_count": 76,
      "outputs": []
    },
    {
      "cell_type": "code",
      "source": [
        "df_media_baixa_satisfacao"
      ],
      "metadata": {
        "id": "hbv-iYGkecGi"
      },
      "execution_count": null,
      "outputs": []
    },
    {
      "cell_type": "code",
      "source": [
        "# Verificando superhosts no df de média e baixa satisfação.\n",
        "filtro_superhost = df_media_baixa_satisfacao.superhost =='False'\n",
        "print(filtro_superhost)\n",
        "print(filtro_superhost.count())\n"
      ],
      "metadata": {
        "id": "DzaGeA7Ym2Oj"
      },
      "execution_count": null,
      "outputs": []
    },
    {
      "cell_type": "markdown",
      "source": [
        "      Nenhum host de média e baixa avaliação é considerado superhosts."
      ],
      "metadata": {
        "id": "BzajXMSqnUIS"
      }
    },
    {
      "cell_type": "code",
      "source": [
        "# Verificando satisfação com a limpeza no df de média e baixa satisfação.\n",
        "limpeza = (df_media_baixa_satisfacao.nota_limpeza < 8).sum()\n",
        "# Porcentagem de satisfação com a limpeza no df de média e baixa satisfação.\n",
        "porcent_limpeza = limpeza * 100 / df_media_baixa_satisfacao['nota_limpeza'].count()\n",
        "\n",
        "print(f\"Dos que estão com média e baixa satisfação geral, {limpeza} dos hóspedes não estão totalmente satisfeitos com o serviço de limpeza.\")\n",
        "print(\"=========================================================\")\n",
        "print(f\"Esse valor corresponde a {porcent_limpeza}% dos hospedes com média e baixa satisfação geral.\")"
      ],
      "metadata": {
        "id": "fqVFcrfNnjWp"
      },
      "execution_count": null,
      "outputs": []
    },
    {
      "cell_type": "code",
      "source": [
        "# Verificando tipo de quarto dos hóspedes com média e baixa satifação.\n",
        "\n",
        "df_media_baixa_satisfacao.groupby(['tipo_quarto']).size().sort_values()\n",
        "\n",
        "quarto_privado = (df_media_baixa_satisfacao.tipo_quarto == 'QUARTO PRIVADO').sum()\n",
        "casa_inteira = (df_media_baixa_satisfacao.tipo_quarto == 'APTO/CASA INTEIRA').sum()\n",
        "\n",
        "print(f\"Dos tipos de quarto locados por hóspedes que tiveram de média a baixa satisfação geral, {quarto_privado} deles são do tipo privado.\\nOs demais, {casa_inteira} locações, correspondem à Apto/casa inteira.\")"
      ],
      "metadata": {
        "colab": {
          "base_uri": "https://localhost:8080/"
        },
        "id": "-drrH1xao78p",
        "outputId": "ebb4d4ec-b8ee-47f4-dd41-5be65885df9f"
      },
      "execution_count": 80,
      "outputs": [
        {
          "output_type": "stream",
          "name": "stdout",
          "text": [
            "Dos tipos de quarto locados por hóspedes que tiveram de média a baixa satisfação geral, 10 deles são do tipo privado.\n",
            "Os demais, 6 locações, correspondem à Apto/casa inteira.\n"
          ]
        }
      ]
    },
    {
      "cell_type": "code",
      "source": [
        "# Buscando uma correlação entre satisfação com o local e distância para centro\n",
        "correlacao_satcen = df_media_baixa_satisfacao['satisfacao'].corr(df['distancia_centro'])\n",
        "coef_determinacao_satcen = (correlacao_satcen ** 2)\n",
        "print(f\"O coeficiente de Pearson entre essas duas variáveis é de {correlacao_satcen:.2f}.\")\n",
        "print(\"========================================================================\")\n",
        "print(f\"O coeficiente de determinação é de {coef_determinacao_satcen:.2f}.\")"
      ],
      "metadata": {
        "id": "YRxWmY9LtrbC"
      },
      "execution_count": null,
      "outputs": []
    },
    {
      "cell_type": "code",
      "source": [
        "# Buscando uma correlação entre satisfação com o local e distância para o metrô\n",
        "correlacao_satmet = df_media_baixa_satisfacao['satisfacao'].corr(df['distancia_metro'])\n",
        "coef_determinacao_satmet = (correlacao_satmet ** 2)\n",
        "print(f\"O coeficiente de Pearson entre essas duas variáveis é de {correlacao_satmet:.2f}.\")\n",
        "print(\"========================================================================\")\n",
        "print(f\"O coeficiente de determinação é de {coef_determinacao_satmet:.2f}.\")"
      ],
      "metadata": {
        "colab": {
          "base_uri": "https://localhost:8080/"
        },
        "id": "jPZpz76ptYED",
        "outputId": "4cafbe3e-1d49-43f5-b840-eb42220851e7"
      },
      "execution_count": 82,
      "outputs": [
        {
          "output_type": "stream",
          "name": "stdout",
          "text": [
            "O coeficiente de Pearson entre essas duas variáveis é de -0.02.\n",
            "========================================================================\n",
            "O coeficiente de determinação é de 0.00.\n"
          ]
        }
      ]
    },
    {
      "cell_type": "code",
      "source": [
        "# Buscando uma correlação entre satisfação e restaurantes da região.\n",
        "correlacao_sarest = df_media_baixa_satisfacao['satisfacao'].corr(df['rest_index_norm'])\n",
        "coef_determinacao_sarest = (correlacao_sarest ** 2)\n",
        "print(f\"O coeficiente de Pearson entre essas duas variáveis é de {correlacao_sarest:.2f}.\")\n",
        "print(\"========================================================================\")\n",
        "print(f\"O coeficiente de determinação é de {coef_determinacao_sarest:.2f}.\")"
      ],
      "metadata": {
        "id": "GQTnIFmktFXz",
        "colab": {
          "base_uri": "https://localhost:8080/"
        },
        "outputId": "e4988461-9dbc-408f-ac0b-615fbbfac2a9"
      },
      "execution_count": 83,
      "outputs": [
        {
          "output_type": "stream",
          "name": "stdout",
          "text": [
            "O coeficiente de Pearson entre essas duas variáveis é de 0.37.\n",
            "========================================================================\n",
            "O coeficiente de determinação é de 0.14.\n"
          ]
        }
      ]
    },
    {
      "cell_type": "code",
      "source": [
        "# Buscando uma correlação entre satisfação e as atrações turísticas.\n",
        "correlacao_satur = df_media_baixa_satisfacao['satisfacao'].corr(df['attr_index_norm'])\n",
        "coef_determinacao_satur = (correlacao_satur ** 2)\n",
        "print(f\"O coeficiente de Pearson entre essas duas variáveis é de {correlacao_satur:.2f}.\")\n",
        "print(\"========================================================================\")\n",
        "print(f\"O coeficiente de determinação é de {coef_determinacao_satur:.2f}.\")"
      ],
      "metadata": {
        "colab": {
          "base_uri": "https://localhost:8080/"
        },
        "id": "W50vwfl1ngyf",
        "outputId": "7e505d1c-f0f2-402f-ac4b-ec2546d7481b"
      },
      "execution_count": 84,
      "outputs": [
        {
          "output_type": "stream",
          "name": "stdout",
          "text": [
            "O coeficiente de Pearson entre essas duas variáveis é de 0.43.\n",
            "========================================================================\n",
            "O coeficiente de determinação é de 0.18.\n"
          ]
        }
      ]
    },
    {
      "cell_type": "code",
      "source": [
        "# Verificando valores dos preços dos imóveis com baixa e média satisfação\n",
        "\n",
        "print(f\"Os valores do aluguel dos imóveis estão entre {df_media_baixa_satisfacao['preco_total'].min()} e {df_media_baixa_satisfacao['preco_total'].max()} euros.\")\n",
        "print(\"=========================================================================\")\n",
        "print(f\"Média e mediana do atributo 'preco_total' tem os seguintes valores, respectivamente: {df_media_baixa_satisfacao['preco_total'].mean():.2f} e {df_media_baixa_satisfacao['preco_total'].median():.2f}.\")\n",
        "print(\"=========================================================================\")\n",
        "preco_total = (df_media_baixa_satisfacao['preco_total'].mean()) - (df_media_baixa_satisfacao['preco_total'].median())\n",
        "\n",
        "if distribuicao_preco_total > 1000:\n",
        "  print(f\"A diferença entre média e mediana é de {preco_total:.2f} euros.\")\n",
        "else:\n",
        "  print(f\"A diferença entre média e mediana é de {preco_total:.2f} euros.\")"
      ],
      "metadata": {
        "colab": {
          "base_uri": "https://localhost:8080/"
        },
        "id": "eVSRDE0VyO5E",
        "outputId": "9b28693e-c767-4084-9dc3-34207646359c"
      },
      "execution_count": 85,
      "outputs": [
        {
          "output_type": "stream",
          "name": "stdout",
          "text": [
            "Os valores do aluguel dos imóveis estão entre 209.03 e 722.71 euros.\n",
            "=========================================================================\n",
            "Média e mediana do atributo 'preco_total' tem os seguintes valores, respectivamente: 438.69 e 386.07.\n",
            "=========================================================================\n",
            "A diferença entre média e mediana é de 52.61 euros.\n"
          ]
        }
      ]
    },
    {
      "cell_type": "code",
      "source": [
        "plt.boxplot(df_media_baixa_satisfacao['preco_total'])\n",
        "plt.ylabel('Faixa de valores')\n",
        "plt.title('Descrição estatística dos valores dos imóveis')\n",
        "plt.show()"
      ],
      "metadata": {
        "colab": {
          "base_uri": "https://localhost:8080/",
          "height": 453
        },
        "id": "2ylyfAGxzwHT",
        "outputId": "0d96e3d4-6041-40bb-8dfb-3555820f459b"
      },
      "execution_count": 86,
      "outputs": [
        {
          "output_type": "display_data",
          "data": {
            "text/plain": [
              "<Figure size 640x480 with 1 Axes>"
            ],
            "image/png": "[encoded data removed]"
          },
          "metadata": {}
        }
      ]
    },
    {
      "cell_type": "markdown",
      "source": [
        "      A correlação demonstra que não há uma associação entre valor do imóvel e a média e baixa satisfação geral do cliente.\n",
        "\n",
        "      Corroborando a assertiva acima, o boxplot traz à tona uma distribuição normal dos valores dos imóveis locado à esta amostra específica."
      ],
      "metadata": {
        "id": "acgLmMXnz5cJ"
      }
    },
    {
      "cell_type": "markdown",
      "source": [
        "## Conclusões"
      ],
      "metadata": {
        "id": "Gr8AEnYg0gLC"
      }
    },
    {
      "cell_type": "markdown",
      "source": [
        "A presente análise de dados trouxe informações valiosas sobre o funcionamento e dinâmica da plataforma de compartilhamento de acomodações.\n",
        "\n",
        "Reitero que a base de dados é referente è locações realizadas em Amsterdã, Holanda, sem período especificado.\n",
        "\n",
        "Ao examinar detalhadamente os dados, vieram à tona informações relevantes que fornecem uma visão aprofundada do mercado de hospedagem oferecido pela Airbnb.\n",
        "\n",
        "Tais insight são fundamentais para compreender o desempenho atual da plataforma e identificar possíveis oportunidades e desafios de negócios."
      ],
      "metadata": {
        "id": "TnN0Da0_1S35"
      }
    },
    {
      "cell_type": "markdown",
      "source": [
        "O primeiro passo dado foi avaliar os valores. Afinal, o mais lógico seria associar os valores a outros diversos atributos, como tipo de ambiente, proximidade do local para o centro, ou de acesso ao metrô. Inclusivi a proximidade desses imóveis a pontos turísticos e restaurantes."
      ],
      "metadata": {
        "id": "ECCnh4kB2V8n"
      }
    },
    {
      "cell_type": "markdown",
      "source": [
        "      No geral, Os valores do aluguel dos imóveis estão entre 128.89 e 7782.91 euros.\n",
        "\n",
        "      Média e mediana são dados que buscam uma tendência.\n",
        "      No que tange aos valores do imóvel, média e mediana apresentaram os seguintes valores, respectivamente: 545.02 e 430.25.\n",
        "\n",
        "      Poder-se-ia afirmar que há uma distribuição normal dos valores dos imóveis, pela diferença entre média e mediana.\n",
        "\n",
        "      Todavia, sabe-se que a média é bastante sensível à outliers, que podem influenciar no seu valor.\n",
        "\n",
        "      Especialmente em valores de imóveis, por diversos fatores, que apresentam valores muito altos e muito baixos na distribuição.\n"
      ],
      "metadata": {
        "id": "D8N14IcC21uH"
      }
    },
    {
      "cell_type": "markdown",
      "source": [
        "![image.png](data:image/png;base64,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)"
      ],
      "metadata": {
        "id": "1M77h8FI3iYO"
      }
    },
    {
      "cell_type": "markdown",
      "source": [
        "Então, se buscou associar o valor dos imóveis à distância até o centro da cidade e o acesso ao metrô. Assim como à proximidade à atrações turísticas e restaurantes.\n",
        "\n",
        "      Para tal, foi utilizada a correlação de Pearson.\n",
        "\n",
        "      Conclui-se que não há uma variação de valor doos imóveis quando se trata do fator de proximidade, seja do centro ou acesso ao metrô.\n",
        "\n",
        "      Também não há influência da proximidade com pontos turísticos e com restaurantes, no valor dos imóveis.\n",
        "\n",
        "      Há de se observar que se trata de um mercado de imóveis.\n",
        "      \n",
        "      Teoricamente, acesso rápido a esses locais na cidade era pra afetar de forma mais enfática esses valores.\n",
        "\n",
        "      Porém, há outros fatores a serem avaliados, como tipo de espaço que foi alugado, quantidade de pessoas e quartos, etc.\n",
        "\n",
        "      O que pode justificar essa baixa correlação.\n",
        "\n",
        "\n"
      ],
      "metadata": {
        "id": "Wc_LYsru3vQ-"
      }
    },
    {
      "cell_type": "markdown",
      "source": [
        " Apesar de demonstrado através da correlaçao que não há influencia na variação de valores, observa-se que:\n",
        "\n",
        "        - Há uma concentração de imóveis que custam até mil euros e estão distantes até 04 km do centro.\n",
        "        - Há uma concentração de imóveis que custam até mil euros e estão distantes até 02 km do acesso ao metrô.\n",
        "\n",
        "![image.png](data:image/png;base64,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)\n",
        "\n",
        "![image.png](data:image/png;base64,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)"
      ],
      "metadata": {
        "id": "66Mc21yK8RAs"
      }
    },
    {
      "cell_type": "markdown",
      "source": [
        "Quanto ao tipo de ambiente locado, salta aos olhos a maior demanda:\n",
        "\n",
        "    - Aluguel de espaço inteiro(50,68%) e espaço com quarto privado (48,78%).\n",
        "\n",
        "![image.png](data:image/png;base64,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)"
      ],
      "metadata": {
        "id": "LF8VcTjd8soA"
      }
    },
    {
      "cell_type": "markdown",
      "source": [
        "Em se tratando de capacidade permitida, temos:\n",
        "\n",
        "      O número de imóveis que permitem até 4 pessoas corresponde a 96.83% de todos o aluguéis.\n",
        "\n",
        "      Um dado curioso é que apenas 6% dos que alugaram ambientes inteiros, a capacidade permitida é de mais de 5 pessoas.\n",
        "\n",
        "      Dado curioso, mas explicável. É possível que tais locações sejam apartamentos ou casas menores, com capacidade limitada em termos de espaço.\n",
        "      \n",
        "      Portanto, a capacidade máxima de hóspedes permitida pode ser definida de acordo com o tamanho da propriedade.\n",
        "\n",
        "![image.png](data:image/png;base64,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)"
      ],
      "metadata": {
        "id": "ZoUsSF809D_K"
      }
    },
    {
      "cell_type": "markdown",
      "source": [
        "Dentro dessa análise, pode-se identificar um ponto relevante.\n",
        "\n",
        "A presença de superhosts! Indicador crucial para a qualidade e confiabilidade das acomodações.\n",
        "\n",
        "\n",
        "      Superhosts são anfitriões com um histórico comprovado de excelentes avaliações e experiência em hospedagem.\n",
        "      \n",
        "      Revelou-se uma baixa quantidade de superhosts no conjunto de dados examinado.\n",
        "      \n",
        "      Tal fato levanta preocupações em relação à oferta de acomodações e benefícios proporcionados pela experiência dos superhosts aos hóspedes."
      ],
      "metadata": {
        "id": "zE04cRT8-VY2"
      }
    },
    {
      "cell_type": "markdown",
      "source": [
        "![image.png](data:image/png;base64,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)\n",
        "\n",
        "       Apenas 29% dos anfitriões de Amsterdã são considerados superhosts."
      ],
      "metadata": {
        "id": "BHz-MJaz_nTs"
      }
    },
    {
      "cell_type": "markdown",
      "source": [
        "Agora, trazemos um aparato sobre a satisfação (geral) do hóspede com a experiência bem como o serviço de limpeza.\n",
        "\n",
        "![image.png](data:image/png;base64,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)\n",
        "\n",
        "      O número de imóveis com alta satisfação com a limpeza corresponde a 97.91% de todos o aluguéis.\n"
      ],
      "metadata": {
        "id": "7HukI4-rA2sr"
      }
    },
    {
      "cell_type": "markdown",
      "source": [
        "Os níveis de satisfação com a limpeza dos locais acompanham a satisfação geral.\n",
        "\n",
        "![image.png](data:image/png;base64,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)\n",
        "\n",
        "      O número de imóveis com alta satisfação com a limpeza corresponde a 97.91%."
      ],
      "metadata": {
        "id": "goZE2UCfBTFF"
      }
    },
    {
      "cell_type": "markdown",
      "source": [
        "Ante o exposto, pode-se concluir que a locação de imóveis via Airbnb em Amsterdã é uma experiência bastante exitosa.\n",
        "\n",
        "Vide a alta satisfação do cliente coms os imóveis.\n",
        "\n",
        "      A experiência do cliente é de extrema importência no ramo de locação de acomodações.\n",
        "      \n",
        "          - Impacta na reputação da empresa;\n",
        "          - Fidelização hóspedes;\n",
        "          - Ótima ferramenta de marketing;\n",
        "          - Ferramenta para processos de melhoria contínuas."
      ],
      "metadata": {
        "id": "qb_tXUGmBjwl"
      }
    },
    {
      "cell_type": "markdown",
      "source": [
        "Todavia, buscando uma avaliação mais completa da base de dados, foi necessário buscar algum tipo de desafio ou ameaça nos casos de baixa e média satisfação com a experiência de hospedagem.\n",
        "\n",
        "Observações sobre esta amostra em específico:\n"
      ],
      "metadata": {
        "id": "FmEMKHQfCtfx"
      }
    },
    {
      "cell_type": "markdown",
      "source": [
        "      Nenhum host de média e baixa avaliação é considerado superhosts.\n",
        "\n",
        "      Dos tipos de quarto locados por hóspedes que tiveram de média a baixa satisfação geral, 10 deles são do tipo privado.\n",
        "      \n",
        "      Os demais, 6 locações, correspondem à Apto/casa inteira.\n",
        "\n",
        "      Desta amostra com média e baixa satisfação geral, 56,25% não estão totalmente satisfeitos com o serviço de limpeza.\n",
        "\n",
        "      "
      ],
      "metadata": {
        "id": "idjlQWGWC_nQ"
      }
    },
    {
      "cell_type": "markdown",
      "source": [
        "Assim, como na base de dados como um todo, nesta amostra em específico não há correlação entre os valores dos imóveis e a proximidade com centros, metrô, atrações turísticas ou restaurantes."
      ],
      "metadata": {
        "id": "yfxmtVTLDnJI"
      }
    },
    {
      "cell_type": "markdown",
      "source": [
        "      Corroborando a assertiva acima, o boxplot traz à tona uma distribuição normal dos valores dos imóveis locado à esta amostra específica.\n",
        "\n",
        "![image.png](data:image/png;base64,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)\n",
        "\n"
      ],
      "metadata": {
        "id": "V-9OwvoaEKog"
      }
    },
    {
      "cell_type": "markdown",
      "source": [
        "Em suma, ante todas as informações fornecidas pela base de dados, pode-se trazer um desafio a ser trabalhado: Os superhosts.\n",
        "\n",
        "    Todas as verificações apontadas revelaram quantitativo mínimo de anfitriões considerados superhosts.\n",
        "\n",
        "    Não considerando uma ameaça, visto que, apesar do baixo quantitativo de superhosts, o nível de satisfação do cliente com a experiência está altíssimo.\n",
        "\n",
        "    Mas como uma oportunidade ou desafio a ser trabalhado.\n",
        "\n",
        "    Trabalhar tal é importante por vários motivos:\n",
        "\n",
        "      - Melhorar a experiência do cliente;\n",
        "      - Melhorar a imagem da empresa;\n",
        "      - Avaliações positivas influenciam diretamente se um hóspede vai ou não locar aquele imóvel.\n",
        "      - Competitividade;\n",
        "\n",
        "Um desafio que é um processo de melhoria contínua para fomentar uma base sólida de padrão de qualidade na experiência com o cliente."
      ],
      "metadata": {
        "id": "gkxWtdKWEiM2"
      }
    }
  ]
}